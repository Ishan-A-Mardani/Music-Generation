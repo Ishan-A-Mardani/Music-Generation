{
  "cells": [
    {
      "cell_type": "markdown",
      "metadata": {
        "colab_type": "text",
        "id": "view-in-github"
      },
      "source": [
        "<a href=\"https://colab.research.google.com/github/Ishan-A-Mardani/Music-Generation/blob/main/Music_Generation_LSTM_%F0%9F%8E%B9.ipynb\" target=\"_parent\"><img src=\"https://colab.research.google.com/assets/colab-badge.svg\" alt=\"Open In Colab\"/></a>"
      ]
    },
    {
      "cell_type": "code",
      "execution_count": null,
      "metadata": {
        "_kg_hide-input": true,
        "_kg_hide-output": true,
        "colab": {
          "base_uri": "https://localhost:8080/"
        },
        "execution": {
          "iopub.execute_input": "2021-10-11T11:16:18.677034Z",
          "iopub.status.busy": "2021-10-11T11:16:18.676798Z",
          "iopub.status.idle": "2021-10-11T11:17:00.625141Z",
          "shell.execute_reply": "2021-10-11T11:17:00.624313Z",
          "shell.execute_reply.started": "2021-10-11T11:16:18.676965Z"
        },
        "id": "GXgBVP95-P1g",
        "outputId": "0eb20982-bd1d-4a09-a442-ea727f370a37",
        "trusted": true
      },
      "outputs": [
        {
          "name": "stdout",
          "output_type": "stream",
          "text": [
            "Requirement already satisfied: music21 in c:\\users\\ishan\\appdata\\local\\programs\\python\\python312\\lib\\site-packages (9.1.0)\n",
            "Requirement already satisfied: chardet in c:\\users\\ishan\\appdata\\local\\programs\\python\\python312\\lib\\site-packages (from music21) (5.2.0)\n",
            "Requirement already satisfied: joblib in c:\\users\\ishan\\appdata\\local\\programs\\python\\python312\\lib\\site-packages (from music21) (1.4.2)\n",
            "Requirement already satisfied: jsonpickle in c:\\users\\ishan\\appdata\\local\\programs\\python\\python312\\lib\\site-packages (from music21) (3.3.0)\n",
            "Requirement already satisfied: matplotlib in c:\\users\\ishan\\appdata\\local\\programs\\python\\python312\\lib\\site-packages (from music21) (3.9.2)\n",
            "Requirement already satisfied: more-itertools in c:\\users\\ishan\\appdata\\local\\programs\\python\\python312\\lib\\site-packages (from music21) (10.5.0)\n",
            "Requirement already satisfied: numpy in c:\\users\\ishan\\appdata\\local\\programs\\python\\python312\\lib\\site-packages (from music21) (1.26.4)\n",
            "Requirement already satisfied: requests in c:\\users\\ishan\\appdata\\local\\programs\\python\\python312\\lib\\site-packages (from music21) (2.32.3)\n",
            "Requirement already satisfied: webcolors>=1.5 in c:\\users\\ishan\\appdata\\local\\programs\\python\\python312\\lib\\site-packages (from music21) (24.8.0)\n",
            "Requirement already satisfied: contourpy>=1.0.1 in c:\\users\\ishan\\appdata\\local\\programs\\python\\python312\\lib\\site-packages (from matplotlib->music21) (1.2.1)\n",
            "Requirement already satisfied: cycler>=0.10 in c:\\users\\ishan\\appdata\\local\\programs\\python\\python312\\lib\\site-packages (from matplotlib->music21) (0.12.1)\n",
            "Requirement already satisfied: fonttools>=4.22.0 in c:\\users\\ishan\\appdata\\local\\programs\\python\\python312\\lib\\site-packages (from matplotlib->music21) (4.53.1)\n",
            "Requirement already satisfied: kiwisolver>=1.3.1 in c:\\users\\ishan\\appdata\\local\\programs\\python\\python312\\lib\\site-packages (from matplotlib->music21) (1.4.5)\n",
            "Requirement already satisfied: packaging>=20.0 in c:\\users\\ishan\\appdata\\local\\programs\\python\\python312\\lib\\site-packages (from matplotlib->music21) (24.1)\n",
            "Requirement already satisfied: pillow>=8 in c:\\users\\ishan\\appdata\\local\\programs\\python\\python312\\lib\\site-packages (from matplotlib->music21) (10.4.0)\n",
            "Requirement already satisfied: pyparsing>=2.3.1 in c:\\users\\ishan\\appdata\\local\\programs\\python\\python312\\lib\\site-packages (from matplotlib->music21) (3.1.4)\n",
            "Requirement already satisfied: python-dateutil>=2.7 in c:\\users\\ishan\\appdata\\local\\programs\\python\\python312\\lib\\site-packages (from matplotlib->music21) (2.9.0.post0)\n",
            "Requirement already satisfied: charset-normalizer<4,>=2 in c:\\users\\ishan\\appdata\\local\\programs\\python\\python312\\lib\\site-packages (from requests->music21) (3.3.2)\n",
            "Requirement already satisfied: idna<4,>=2.5 in c:\\users\\ishan\\appdata\\local\\programs\\python\\python312\\lib\\site-packages (from requests->music21) (3.8)\n",
            "Requirement already satisfied: urllib3<3,>=1.21.1 in c:\\users\\ishan\\appdata\\local\\programs\\python\\python312\\lib\\site-packages (from requests->music21) (2.2.2)\n",
            "Requirement already satisfied: certifi>=2017.4.17 in c:\\users\\ishan\\appdata\\local\\programs\\python\\python312\\lib\\site-packages (from requests->music21) (2024.7.4)\n",
            "Requirement already satisfied: six>=1.5 in c:\\users\\ishan\\appdata\\local\\programs\\python\\python312\\lib\\site-packages (from python-dateutil>=2.7->matplotlib->music21) (1.16.0)\n"
          ]
        }
      ],
      "source": [
        "!pip install music21"
      ]
    },
    {
      "cell_type": "code",
      "execution_count": null,
      "metadata": {
        "id": "DRAlmx6dt8Jn"
      },
      "outputs": [],
      "source": [
        "# Please ensure you have LilyPond installed on your system\n",
        "us = environment.UserSettings()\n",
        "us['lilypondPath'] = 'C:/Program Files (x86)/LilyPond/usr/bin/lilypond.exe'"
      ]
    },
    {
      "cell_type": "code",
      "execution_count": 1,
      "metadata": {
        "_kg_hide-output": true,
        "execution": {
          "iopub.execute_input": "2021-10-11T11:17:00.627369Z",
          "iopub.status.busy": "2021-10-11T11:17:00.627086Z",
          "iopub.status.idle": "2021-10-11T11:17:05.797137Z",
          "shell.execute_reply": "2021-10-11T11:17:05.796307Z",
          "shell.execute_reply.started": "2021-10-11T11:17:00.627333Z"
        },
        "id": "Fp5NR31G-P1h",
        "trusted": true
      },
      "outputs": [],
      "source": [
        "#Importing Libraries\n",
        "import tensorflow\n",
        "import numpy as np\n",
        "import pandas as pd\n",
        "import os\n",
        "from collections import Counter\n",
        "import random\n",
        "import IPython\n",
        "from IPython.display import Image, Audio\n",
        "import music21\n",
        "from music21 import *\n",
        "import matplotlib.pyplot as plt\n",
        "from sklearn.model_selection import train_test_split\n",
        "from tensorflow.keras.models import Sequential\n",
        "from tensorflow.keras.layers import LSTM, Dense, Dropout\n",
        "import tensorflow.keras.backend as K\n",
        "from tensorflow.keras.optimizers import Adamax\n",
        "import seaborn as sns\n",
        "import matplotlib.pyplot as plt\n",
        "import matplotlib.patches as mpatches\n",
        "%matplotlib inline\n",
        "import sys"
      ]
    },
    {
      "cell_type": "markdown",
      "metadata": {
        "id": "fBKgkIRR-P1h"
      },
      "source": [
        "# LOADING DATA\n",
        "\n",
        "For this project, I will be using MIDI files of classical piano music. The dataset includes various artists. I will be working with Frédéric Chopin's compositions.\n",
        "\n",
        "* First of all, I make a list of all the songs in the Chopin folder parsed as music21 stream.\n",
        "\n",
        "* Then I will be creating a function to extract chords and notes out of the data creating a corpus.\n",
        "\n",
        "**Laoding and parsing data**"
      ]
    },
    {
      "cell_type": "code",
      "execution_count": 2,
      "metadata": {
        "colab": {
          "base_uri": "https://localhost:8080/"
        },
        "id": "TRKi_DmCORNP",
        "outputId": "13f819af-82f4-42cf-8ea8-53cae2fdf619"
      },
      "outputs": [],
      "source": [
        "#Loading the list of chopin's midi files as stream\n",
        "filepath = \"Data/classical_music_midi/chopin/\"\n",
        "#Getting midi files\n",
        "all_midis= []\n",
        "for i in os.listdir(filepath):\n",
        "    if i.endswith(\".mid\"):\n",
        "        tr = filepath+i\n",
        "        midi = converter.parse(tr)\n",
        "        all_midis.append(midi)"
      ]
    },
    {
      "cell_type": "markdown",
      "metadata": {
        "id": "rPotU2j0-P1i"
      },
      "source": [
        "Next, I get the components out of these streams of MIDI files. The midi files only have the piano included as mentioned in the dataset. So the components of the file would be either piano chords or piano notes.\n",
        "\n",
        "**Note:** The musical notes are the building blocks of the music. It pertains to a pitch associated with a specific audio vibration. Western music utilizes twelve musical notes.\n",
        "\n",
        "**Chord:** A group of notes that sound good together is a chord.\n",
        "\n",
        "The music21 stream that was created in the above cell contains both, chords and notes, we will extract them in the form of notes and obtain a series of notes in the musical composition.\n",
        "\n",
        "**The function to get the notes:**"
      ]
    },
    {
      "cell_type": "code",
      "execution_count": 3,
      "metadata": {
        "colab": {
          "base_uri": "https://localhost:8080/"
        },
        "execution": {
          "iopub.execute_input": "2021-10-11T11:22:02.233115Z",
          "iopub.status.busy": "2021-10-11T11:22:02.232844Z",
          "iopub.status.idle": "2021-10-11T11:22:21.07334Z",
          "shell.execute_reply": "2021-10-11T11:22:21.072583Z",
          "shell.execute_reply.started": "2021-10-11T11:22:02.233082Z"
        },
        "id": "gUL4R13Y-P1i",
        "outputId": "d93af48c-b34e-4274-af28-a13051c0158d",
        "trusted": true
      },
      "outputs": [
        {
          "name": "stdout",
          "output_type": "stream",
          "text": [
            "Total notes in all the Chopin midis in the dataset: 57894\n"
          ]
        }
      ],
      "source": [
        "#Helping function\n",
        "def extract_notes(file):\n",
        "    notes = []\n",
        "    pick = None\n",
        "    for j in file:\n",
        "        songs = instrument.partitionByInstrument(j)\n",
        "        for part in songs.parts:\n",
        "            pick = part.recurse()\n",
        "            for element in pick:\n",
        "                if isinstance(element, note.Note):\n",
        "                    notes.append(str(element.pitch))\n",
        "                elif isinstance(element, chord.Chord):\n",
        "                    notes.append(\".\".join(str(n) for n in element.normalOrder))\n",
        "\n",
        "    return notes\n",
        "\n",
        "#Getting the list of notes as Corpus\n",
        "Corpus = extract_notes(all_midis)\n",
        "print(\"Total notes in all the Chopin midis in the dataset:\", len(Corpus))"
      ]
    },
    {
      "cell_type": "markdown",
      "metadata": {
        "id": "Z-TMixga-P1j"
      },
      "source": [
        "So we have our data in the form of a corpus. A list of strings, if you will. Each string indicates a musical note. Let us explore this data corpus.\n",
        "\n",
        "# DATA EXPLORATION\n",
        "\n",
        "**In this section, I will be:**\n",
        "* Exploring the data Corpus\n",
        "* Examine all the notes in the Corpus\n",
        "* Simplifying our Corpus to Built a working model\n",
        "\n",
        "**Let us have a look at the first 50 values in our corpus**"
      ]
    },
    {
      "cell_type": "code",
      "execution_count": 4,
      "metadata": {
        "colab": {
          "base_uri": "https://localhost:8080/"
        },
        "execution": {
          "iopub.execute_input": "2021-10-11T11:22:21.075113Z",
          "iopub.status.busy": "2021-10-11T11:22:21.074693Z",
          "iopub.status.idle": "2021-10-11T11:22:21.080474Z",
          "shell.execute_reply": "2021-10-11T11:22:21.079728Z",
          "shell.execute_reply.started": "2021-10-11T11:22:21.075078Z"
        },
        "id": "TK6Yw9CJ-P1j",
        "outputId": "f22a3bad-f0f3-478c-83d7-5e8273924214",
        "trusted": true
      },
      "outputs": [
        {
          "name": "stdout",
          "output_type": "stream",
          "text": [
            "First fifty values in the Corpus: ['7.0', 'G3', '0.4', 'E3', '0.4.7', 'A4', '9.11', 'A4', 'G3', '5.7', '2.5', '2.5.7', 'A4', '9.0', 'A4', 'G3', '4.7', '0.4', '0.4.7', 'A4', '4.9', 'A4', 'B3', '4.7', '4.7', '4.7.11', 'C5', '0.5', 'E4', '4.9', '9.0', '9.0.4', '2', '2.6', 'E4', '9.0', 'C4', '9.0.4', '2', '5.7', 'E4', '7.11', 'B3', '4.7.11', '2', '2', '7', 'B3', '2.5', 'F3']\n"
          ]
        }
      ],
      "source": [
        "print(\"First fifty values in the Corpus:\", Corpus[:50])"
      ]
    },
    {
      "cell_type": "markdown",
      "metadata": {
        "id": "ivKk4dL_-P1j"
      },
      "source": [
        "All these values indicate the notes, as mentioned above.\n",
        "\n",
        "**Printing the music sheet**"
      ]
    },
    {
      "cell_type": "code",
      "execution_count": 5,
      "metadata": {
        "colab": {
          "base_uri": "https://localhost:8080/",
          "height": 515
        },
        "execution": {
          "iopub.execute_input": "2021-10-11T11:22:21.082389Z",
          "iopub.status.busy": "2021-10-11T11:22:21.081966Z",
          "iopub.status.idle": "2021-10-11T11:22:22.600018Z",
          "shell.execute_reply": "2021-10-11T11:22:22.599285Z",
          "shell.execute_reply.started": "2021-10-11T11:22:21.082356Z"
        },
        "id": "fESRgv8K-P1j",
        "outputId": "558ebbf8-305b-46d8-b8bc-dbcfaa072c7c",
        "trusted": true
      },
      "outputs": [
        {
          "data": {
            "image/png": "[encoded data removed]",
            "text/plain": [
              "<IPython.core.display.Image object>"
            ]
          },
          "metadata": {},
          "output_type": "display_data"
        }
      ],
      "source": [
        "#First Lets write some functions that we need to look into the data\n",
        "def show(music):\n",
        "    display(Image(str(music.write(\"lily.png\"))))\n",
        "\n",
        "def chords_n_notes(Snippet):\n",
        "    Melody = []\n",
        "    offset = 0 #Incremental\n",
        "    for i in Snippet:\n",
        "        #If it is chord\n",
        "        if (\".\" in i or i.isdigit()):\n",
        "            chord_notes = i.split(\".\") #Seperating the notes in chord\n",
        "            notes = []\n",
        "            for j in chord_notes:\n",
        "                inst_note=int(j)\n",
        "                note_snip = note.Note(inst_note)\n",
        "                notes.append(note_snip)\n",
        "                chord_snip = chord.Chord(notes)\n",
        "                chord_snip.offset = offset\n",
        "                Melody.append(chord_snip)\n",
        "        # pattern is a note\n",
        "        else:\n",
        "            note_snip = note.Note(i)\n",
        "            note_snip.offset = offset\n",
        "            Melody.append(note_snip)\n",
        "        # increase offset each iteration so that notes do not stack\n",
        "        offset += 1\n",
        "    Melody_midi = stream.Stream(Melody)\n",
        "    return Melody_midi\n",
        "\n",
        "Melody_Snippet = chords_n_notes(Corpus[:100])\n",
        "show(Melody_Snippet)"
      ]
    },
    {
      "cell_type": "markdown",
      "metadata": {
        "id": "cOwVuV23-P1k"
      },
      "source": [
        "**Playing the above sheet music**"
      ]
    },
    {
      "cell_type": "code",
      "execution_count": 6,
      "metadata": {
        "colab": {
          "base_uri": "https://localhost:8080/",
          "height": 134
        },
        "id": "wb_hsoehTMXE",
        "outputId": "c5589d4d-1f4d-4834-d409-f71c2c13a973"
      },
      "outputs": [
        {
          "data": {
            "text/html": [
              "\n",
              "        <div id=\"midiPlayerDiv458501\"></div>\n",
              "        <link rel=\"stylesheet\" href=\"https://cuthbertLab.github.io/music21j/css/m21.css\">\n",
              "        \n",
              "        <script\n",
              "        src=\"https://cdnjs.cloudflare.com/ajax/libs/require.js/2.3.6/require.min.js\"\n",
              "        ></script>\n",
              "    \n",
              "        <script>\n",
              "        function midiPlayerDiv458501_play() {\n",
              "            const rq = require.config({\n",
              "                paths: {\n",
              "                    'music21': 'https://cuthbertLab.github.io/music21j/releases/music21.debug',\n",
              "                }\n",
              "            });\n",
              "            rq(['music21'], function(music21) {\n",
              "                mp = new music21.miditools.MidiPlayer();\n",
              "                mp.addPlayer(\"#midiPlayerDiv458501\");\n",
              "                mp.base64Load(\"data:audio/midi;base64,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\");\n",
              "            });\n",
              "        }\n",
              "        if (typeof require === 'undefined') {\n",
              "            setTimeout(midiPlayerDiv458501_play, 2000);\n",
              "        } else {\n",
              "            midiPlayerDiv458501_play();\n",
              "        }\n",
              "        </script>"
            ],
            "text/plain": [
              "<IPython.core.display.HTML object>"
            ]
          },
          "metadata": {},
          "output_type": "display_data"
        }
      ],
      "source": [
        "Melody_Snippet.show('midi')"
      ]
    },
    {
      "cell_type": "markdown",
      "metadata": {
        "id": "aBbtAE1c-P1k"
      },
      "source": [
        "**Examine all the notes in the Corpus**"
      ]
    },
    {
      "cell_type": "code",
      "execution_count": 7,
      "metadata": {
        "colab": {
          "base_uri": "https://localhost:8080/"
        },
        "execution": {
          "iopub.execute_input": "2021-10-11T11:22:23.199377Z",
          "iopub.status.busy": "2021-10-11T11:22:23.199046Z",
          "iopub.status.idle": "2021-10-11T11:22:23.225688Z",
          "shell.execute_reply": "2021-10-11T11:22:23.224781Z",
          "shell.execute_reply.started": "2021-10-11T11:22:23.199335Z"
        },
        "id": "xgY-UBZw-P1k",
        "outputId": "739b4176-9ca8-4148-9650-da1b7a356d82",
        "trusted": true
      },
      "outputs": [
        {
          "name": "stdout",
          "output_type": "stream",
          "text": [
            "Total unique notes in the Corpus: 397\n"
          ]
        }
      ],
      "source": [
        "#Creating a count dictionary\n",
        "count_num = Counter(Corpus)\n",
        "print(\"Total unique notes in the Corpus:\", len(count_num))"
      ]
    },
    {
      "cell_type": "code",
      "execution_count": 8,
      "metadata": {
        "colab": {
          "base_uri": "https://localhost:8080/"
        },
        "execution": {
          "iopub.execute_input": "2021-10-11T11:22:23.227778Z",
          "iopub.status.busy": "2021-10-11T11:22:23.227296Z",
          "iopub.status.idle": "2021-10-11T11:22:23.235741Z",
          "shell.execute_reply": "2021-10-11T11:22:23.235081Z",
          "shell.execute_reply.started": "2021-10-11T11:22:23.227728Z"
        },
        "id": "fBjPNVLR-P1l",
        "outputId": "c3382c00-4d09-4245-c26b-1ec9b213f567",
        "trusted": true
      },
      "outputs": [
        {
          "name": "stdout",
          "output_type": "stream",
          "text": [
            "Average recurrence for a note in Corpus: 145.8287153652393\n",
            "Most frequent note in Corpus appeared: 1627 times\n",
            "Least frequent note in Corpus appeared: 1 time\n"
          ]
        }
      ],
      "source": [
        "#Exploring the notes dictionary\n",
        "Notes = list(count_num.keys())\n",
        "Recurrence = list(count_num.values())\n",
        "#Average recurrenc for a note in Corpus\n",
        "def Average(lst):\n",
        "    return sum(lst) / len(lst)\n",
        "print(\"Average recurrence for a note in Corpus:\", Average(Recurrence))\n",
        "print(\"Most frequent note in Corpus appeared:\", max(Recurrence), \"times\")\n",
        "print(\"Least frequent note in Corpus appeared:\", min(Recurrence), \"time\")"
      ]
    },
    {
      "cell_type": "markdown",
      "metadata": {
        "id": "1aIEdigO-P1l"
      },
      "source": [
        "Clearly, there are some very rare notes in the melody, so rare that it was played only once in the whole data.\n",
        "Let us have a look at the frequency of the notes.\n",
        "And for simplicity, I shall be eliminating some of the least occurring notes. I am sure Chopin wouldn't mind me messing with his masterpiece for science or would he? Either way, I may never know!   "
      ]
    },
    {
      "cell_type": "code",
      "execution_count": 9,
      "metadata": {
        "colab": {
          "base_uri": "https://localhost:8080/",
          "height": 332
        },
        "execution": {
          "iopub.execute_input": "2021-10-11T11:22:23.239962Z",
          "iopub.status.busy": "2021-10-11T11:22:23.2393Z",
          "iopub.status.idle": "2021-10-11T11:22:23.648745Z",
          "shell.execute_reply": "2021-10-11T11:22:23.647902Z",
          "shell.execute_reply.started": "2021-10-11T11:22:23.239927Z"
        },
        "id": "WNUAHfwe-P1l",
        "outputId": "8f5c44ee-0dab-4113-8d23-af2c2d57d2eb",
        "trusted": true
      },
      "outputs": [
        {
          "data": {
            "image/png": "[encoded data removed]",
            "text/plain": [
              "<Figure size 1800x300 with 1 Axes>"
            ]
          },
          "metadata": {
            "image/png": {
              "height": 315,
              "width": 1470
            }
          },
          "output_type": "display_data"
        }
      ],
      "source": [
        "# Plotting the distribution of Notes\n",
        "plt.figure(figsize=(18,3),facecolor=\"#97BACB\")\n",
        "bins = np.arange(0,(max(Recurrence)), 50)\n",
        "plt.hist(Recurrence, bins=bins, color=\"#97BACB\")\n",
        "plt.axvline(x=100,color=\"#DBACC1\")\n",
        "plt.title(\"Frequency Distribution Of Notes In The Corpus\")\n",
        "plt.xlabel(\"Frequency Of Chords in Corpus\")\n",
        "plt.ylabel(\"Number Of Chords\")\n",
        "plt.show()"
      ]
    },
    {
      "cell_type": "markdown",
      "metadata": {
        "id": "6_02FRgH-P1l"
      },
      "source": [
        "I have decided, I will be taking out the notes that were played less than 100 times. I mean, if Chopin liked them he would have played it a lot more often. So I create a list of rare notes in the next section."
      ]
    },
    {
      "cell_type": "code",
      "execution_count": 10,
      "metadata": {
        "colab": {
          "base_uri": "https://localhost:8080/"
        },
        "execution": {
          "iopub.execute_input": "2021-10-11T11:22:23.650629Z",
          "iopub.status.busy": "2021-10-11T11:22:23.650348Z",
          "iopub.status.idle": "2021-10-11T11:22:23.656827Z",
          "shell.execute_reply": "2021-10-11T11:22:23.655939Z",
          "shell.execute_reply.started": "2021-10-11T11:22:23.650595Z"
        },
        "id": "ZN-672zE-P1l",
        "outputId": "7f41e351-5e95-48ab-a07f-e92bfb3d73fb",
        "trusted": true
      },
      "outputs": [
        {
          "name": "stdout",
          "output_type": "stream",
          "text": [
            "Total number of notes that occur less than 100 times: 270\n"
          ]
        }
      ],
      "source": [
        "#Getting a list of rare chords\n",
        "rare_note = []\n",
        "for index, (key, value) in enumerate(count_num.items()):\n",
        "    if value < 100:\n",
        "        m =  key\n",
        "        rare_note.append(m)\n",
        "\n",
        "print(\"Total number of notes that occur less than 100 times:\", len(rare_note))"
      ]
    },
    {
      "cell_type": "code",
      "execution_count": 11,
      "metadata": {
        "colab": {
          "base_uri": "https://localhost:8080/"
        },
        "execution": {
          "iopub.execute_input": "2021-10-11T11:22:23.658586Z",
          "iopub.status.busy": "2021-10-11T11:22:23.658297Z",
          "iopub.status.idle": "2021-10-11T11:22:25.737944Z",
          "shell.execute_reply": "2021-10-11T11:22:25.737173Z",
          "shell.execute_reply.started": "2021-10-11T11:22:23.658551Z"
        },
        "id": "ztcQ1egi-P1m",
        "outputId": "8565a0b6-41a4-4cb2-d92f-89fa9478a071",
        "trusted": true
      },
      "outputs": [
        {
          "name": "stdout",
          "output_type": "stream",
          "text": [
            "Length of Corpus after elimination the rare notes: 53753\n"
          ]
        }
      ],
      "source": [
        "#Eleminating the rare notes\n",
        "for element in Corpus:\n",
        "    if element in rare_note:\n",
        "        Corpus.remove(element)\n",
        "\n",
        "print(\"Length of Corpus after elimination the rare notes:\", len(Corpus))"
      ]
    },
    {
      "cell_type": "markdown",
      "metadata": {
        "id": "gGgT4aUP-P1m"
      },
      "source": [
        "Finally! This is the cleaned data Corpus that I will be using for the music generation.  \n",
        "In the next section, I will be preprocessing this Corpus for the training model.\n",
        "\n",
        "The workflow for this project involves,\n",
        "\n",
        "Loading Data ➡️ Preprocessing ➡️ Building Mapping Dictionary ➡️ Building Model ➡️ Generating Music\n",
        "\n",
        "As I have loaded and explored the data,  I will proceed further by pre-processing the text.  \n",
        "\n",
        "\n",
        "\n",
        "## DATA PREPROCESSING\n",
        "\n",
        "\n",
        "**Creating a dictionary:** Creating a dictionary to map the notes and their indices. We have the note's name as a string the Corpus. For the computer, these names are just a symbol. So we create a dictionary to map each unique note in our Corpus to a number. And vice versa to retrieve the values at the time of prediction. This will be used to encode and decode the information going in and getting out of the RNN.\n",
        "\n",
        "**Encoding and Splitting the corpus:** Encoding and splitting the corpus into smaller sequences of equal length: At this point, the Corpus contain notes. We will encode this corpus and create small sequences of equal lengths of features and the corresponding targets. Each feature and target will contain the mapped index in the dictionary of the unique characters they signify.\n",
        "\n",
        "**Assigning X and y:** The labels are then resized and normalized. Whereas the targets are one-hot encoded. Ready to be sent to the RNN for the training.\n",
        "\n",
        "**Splitting Train and Seed datasets** To create music we will need to send some input to the RNN. For that, we will set aside a part of the data as seeds. We could have trained it all but I am no musician to come up with an input seed value.\n",
        "\n",
        "**Creating a list of sorted unique characters**"
      ]
    },
    {
      "cell_type": "code",
      "execution_count": 12,
      "metadata": {
        "colab": {
          "base_uri": "https://localhost:8080/"
        },
        "execution": {
          "iopub.execute_input": "2021-10-11T11:22:25.739783Z",
          "iopub.status.busy": "2021-10-11T11:22:25.739349Z",
          "iopub.status.idle": "2021-10-11T11:22:25.749121Z",
          "shell.execute_reply": "2021-10-11T11:22:25.74817Z",
          "shell.execute_reply.started": "2021-10-11T11:22:25.739747Z"
        },
        "id": "Tp88gRjG-P1n",
        "outputId": "e20a3920-c365-4f7d-f1c2-ee756b00499c",
        "trusted": true
      },
      "outputs": [
        {
          "name": "stdout",
          "output_type": "stream",
          "text": [
            "Total number of characters: 53753\n",
            "Number of unique characters: 263\n"
          ]
        }
      ],
      "source": [
        "# Storing all the unique characters present in my corpus to build a mapping dic.\n",
        "symb = sorted(list(set(Corpus)))\n",
        "\n",
        "L_corpus = len(Corpus) #length of corpus\n",
        "L_symb = len(symb) #length of total unique characters\n",
        "\n",
        "#Building dictionary to access the vocabulary from indices and vice versa\n",
        "mapping = dict((c, i) for i, c in enumerate(symb))\n",
        "reverse_mapping = dict((i, c) for i, c in enumerate(symb))\n",
        "\n",
        "print(\"Total number of characters:\", L_corpus)\n",
        "print(\"Number of unique characters:\", L_symb)"
      ]
    },
    {
      "cell_type": "markdown",
      "metadata": {
        "id": "w2O2r19T-P1n"
      },
      "source": [
        "**Encoding and Splitting the Corpus as Labels and Targets**"
      ]
    },
    {
      "cell_type": "code",
      "execution_count": 13,
      "metadata": {
        "colab": {
          "base_uri": "https://localhost:8080/"
        },
        "execution": {
          "iopub.execute_input": "2021-10-11T11:22:25.751166Z",
          "iopub.status.busy": "2021-10-11T11:22:25.750838Z",
          "iopub.status.idle": "2021-10-11T11:22:26.011177Z",
          "shell.execute_reply": "2021-10-11T11:22:26.010136Z",
          "shell.execute_reply.started": "2021-10-11T11:22:25.751083Z"
        },
        "id": "D-MEj23h-P1n",
        "outputId": "d8944ddc-9838-4c8d-e26a-3bc47d1e2d3e",
        "trusted": true
      },
      "outputs": [
        {
          "name": "stdout",
          "output_type": "stream",
          "text": [
            "Total number of sequences in the Corpus: 53713\n"
          ]
        }
      ],
      "source": [
        "#Splitting the Corpus in equal length of strings and output target\n",
        "length = 40\n",
        "features = []\n",
        "targets = []\n",
        "for i in range(0, L_corpus - length, 1):\n",
        "    feature = Corpus[i:i + length]\n",
        "    target = Corpus[i + length]\n",
        "    features.append([mapping[j] for j in feature])\n",
        "    targets.append(mapping[target])\n",
        "\n",
        "\n",
        "L_datapoints = len(targets)\n",
        "print(\"Total number of sequences in the Corpus:\", L_datapoints)"
      ]
    },
    {
      "cell_type": "code",
      "execution_count": 14,
      "metadata": {
        "colab": {
          "base_uri": "https://localhost:8080/"
        },
        "execution": {
          "iopub.execute_input": "2021-10-11T11:22:26.01296Z",
          "iopub.status.busy": "2021-10-11T11:22:26.012606Z",
          "iopub.status.idle": "2021-10-11T11:22:26.491054Z",
          "shell.execute_reply": "2021-10-11T11:22:26.490304Z",
          "shell.execute_reply.started": "2021-10-11T11:22:26.012924Z"
        },
        "id": "FY4JXkTq-P1o",
        "outputId": "ecb952fd-9d0b-451f-f86b-d80467d49101",
        "trusted": true
      },
      "outputs": [
        {
          "name": "stdout",
          "output_type": "stream",
          "text": [
            "(53713, 40, 1)\n"
          ]
        }
      ],
      "source": [
        "# reshape X and normalize\n",
        "X = (np.reshape(features, (L_datapoints, length, 1)))/ float(L_symb)\n",
        "print(X.shape)\n",
        "# One hot encode the output variable\n",
        "y = tensorflow.keras.utils.to_categorical(targets)"
      ]
    },
    {
      "cell_type": "markdown",
      "metadata": {
        "id": "H9sQJvul-P1o"
      },
      "source": [
        "**Splitting Train and Seed datasets**"
      ]
    },
    {
      "cell_type": "code",
      "execution_count": 15,
      "metadata": {
        "execution": {
          "iopub.execute_input": "2021-10-11T11:22:26.492824Z",
          "iopub.status.busy": "2021-10-11T11:22:26.492546Z",
          "iopub.status.idle": "2021-10-11T11:22:26.534046Z",
          "shell.execute_reply": "2021-10-11T11:22:26.533177Z",
          "shell.execute_reply.started": "2021-10-11T11:22:26.492789Z"
        },
        "id": "BXeugrFn-P1o",
        "trusted": true
      },
      "outputs": [],
      "source": [
        "#Taking out a subset of data to be used as seed\n",
        "X_train, X_seed, y_train, y_seed = train_test_split(X, y, test_size=0.2, random_state=42)"
      ]
    },
    {
      "cell_type": "markdown",
      "metadata": {
        "id": "0LDx_07r-P1p"
      },
      "source": [
        "# MODEL BUILDING\n",
        "\n",
        "I will be employing an LSTM for this project.\n",
        "\n",
        "**Following steps are involved in the model building**\n",
        "\n",
        "* Initialising the Model\n",
        "* Defining by adding layers\n",
        "* Compiling the Model\n",
        "* Training the Model\n",
        "\n",
        "**Building the Model**"
      ]
    },
    {
      "cell_type": "code",
      "execution_count": null,
      "metadata": {
        "_kg_hide-output": true,
        "colab": {
          "base_uri": "https://localhost:8080/"
        },
        "execution": {
          "iopub.execute_input": "2021-10-11T11:22:26.536044Z",
          "iopub.status.busy": "2021-10-11T11:22:26.535608Z",
          "iopub.status.idle": "2021-10-11T11:22:29.074068Z",
          "shell.execute_reply": "2021-10-11T11:22:29.073278Z",
          "shell.execute_reply.started": "2021-10-11T11:22:26.535998Z"
        },
        "id": "7qPDsK27-P1p",
        "outputId": "da67e420-9f06-406f-e26e-e24fd587b5c4",
        "trusted": true
      },
      "outputs": [
        {
          "name": "stderr",
          "output_type": "stream",
          "text": [
            "c:\\Users\\Ishan\\AppData\\Local\\Programs\\Python\\Python312\\Lib\\site-packages\\keras\\src\\layers\\rnn\\rnn.py:204: UserWarning: Do not pass an `input_shape`/`input_dim` argument to a layer. When using Sequential models, prefer using an `Input(shape)` object as the first layer in the model instead.\n",
            "  super().__init__(**kwargs)\n"
          ]
        }
      ],
      "source": [
        "#Initialising the Model\n",
        "model = Sequential()\n",
        "#Adding layers\n",
        "model.add(LSTM(512, input_shape=(X.shape[1], X.shape[2]), return_sequences=True))\n",
        "model.add(Dropout(0.1))\n",
        "model.add(LSTM(256))\n",
        "model.add(Dense(256))\n",
        "model.add(Dropout(0.1))\n",
        "model.add(Dense(y.shape[1], activation='softmax'))\n",
        "#Compiling the model for training\n",
        "opt = Adamax(learning_rate=0.01)\n",
        "model.compile(loss='categorical_crossentropy', optimizer=opt)\n"
      ]
    },
    {
      "cell_type": "code",
      "execution_count": null,
      "metadata": {
        "colab": {
          "base_uri": "https://localhost:8080/",
          "height": 331
        },
        "execution": {
          "iopub.execute_input": "2021-10-11T11:22:29.075722Z",
          "iopub.status.busy": "2021-10-11T11:22:29.075442Z",
          "iopub.status.idle": "2021-10-11T11:22:29.08651Z",
          "shell.execute_reply": "2021-10-11T11:22:29.085555Z",
          "shell.execute_reply.started": "2021-10-11T11:22:29.07569Z"
        },
        "id": "qn4WtCOQ-P1q",
        "outputId": "5a682337-6e6d-4e0c-cc71-79d23cc039a0",
        "trusted": true
      },
      "outputs": [
        {
          "data": {
            "text/html": [
              "<pre style=\"white-space:pre;overflow-x:auto;line-height:normal;font-family:Menlo,'DejaVu Sans Mono',consolas,'Courier New',monospace\"><span style=\"font-weight: bold\">Model: \"sequential_1\"</span>\n",
              "</pre>\n"
            ],
            "text/plain": [
              "\u001b[1mModel: \"sequential_1\"\u001b[0m\n"
            ]
          },
          "metadata": {},
          "output_type": "display_data"
        },
        {
          "data": {
            "text/html": [
              "<pre style=\"white-space:pre;overflow-x:auto;line-height:normal;font-family:Menlo,'DejaVu Sans Mono',consolas,'Courier New',monospace\">┏━━━━━━━━━━━━━━━━━━━━━━━━━━━━━━━━━┳━━━━━━━━━━━━━━━━━━━━━━━━┳━━━━━━━━━━━━━━━┓\n",
              "┃<span style=\"font-weight: bold\"> Layer (type)                    </span>┃<span style=\"font-weight: bold\"> Output Shape           </span>┃<span style=\"font-weight: bold\">       Param # </span>┃\n",
              "┡━━━━━━━━━━━━━━━━━━━━━━━━━━━━━━━━━╇━━━━━━━━━━━━━━━━━━━━━━━━╇━━━━━━━━━━━━━━━┩\n",
              "│ lstm (<span style=\"color: #0087ff; text-decoration-color: #0087ff\">LSTM</span>)                     │ (<span style=\"color: #00d7ff; text-decoration-color: #00d7ff\">None</span>, <span style=\"color: #00af00; text-decoration-color: #00af00\">40</span>, <span style=\"color: #00af00; text-decoration-color: #00af00\">512</span>)        │     <span style=\"color: #00af00; text-decoration-color: #00af00\">1,052,672</span> │\n",
              "├─────────────────────────────────┼────────────────────────┼───────────────┤\n",
              "│ dropout (<span style=\"color: #0087ff; text-decoration-color: #0087ff\">Dropout</span>)               │ (<span style=\"color: #00d7ff; text-decoration-color: #00d7ff\">None</span>, <span style=\"color: #00af00; text-decoration-color: #00af00\">40</span>, <span style=\"color: #00af00; text-decoration-color: #00af00\">512</span>)        │             <span style=\"color: #00af00; text-decoration-color: #00af00\">0</span> │\n",
              "├─────────────────────────────────┼────────────────────────┼───────────────┤\n",
              "│ lstm_1 (<span style=\"color: #0087ff; text-decoration-color: #0087ff\">LSTM</span>)                   │ (<span style=\"color: #00d7ff; text-decoration-color: #00d7ff\">None</span>, <span style=\"color: #00af00; text-decoration-color: #00af00\">256</span>)            │       <span style=\"color: #00af00; text-decoration-color: #00af00\">787,456</span> │\n",
              "├─────────────────────────────────┼────────────────────────┼───────────────┤\n",
              "│ dense (<span style=\"color: #0087ff; text-decoration-color: #0087ff\">Dense</span>)                   │ (<span style=\"color: #00d7ff; text-decoration-color: #00d7ff\">None</span>, <span style=\"color: #00af00; text-decoration-color: #00af00\">256</span>)            │        <span style=\"color: #00af00; text-decoration-color: #00af00\">65,792</span> │\n",
              "├─────────────────────────────────┼────────────────────────┼───────────────┤\n",
              "│ dropout_1 (<span style=\"color: #0087ff; text-decoration-color: #0087ff\">Dropout</span>)             │ (<span style=\"color: #00d7ff; text-decoration-color: #00d7ff\">None</span>, <span style=\"color: #00af00; text-decoration-color: #00af00\">256</span>)            │             <span style=\"color: #00af00; text-decoration-color: #00af00\">0</span> │\n",
              "├─────────────────────────────────┼────────────────────────┼───────────────┤\n",
              "│ dense_1 (<span style=\"color: #0087ff; text-decoration-color: #0087ff\">Dense</span>)                 │ (<span style=\"color: #00d7ff; text-decoration-color: #00d7ff\">None</span>, <span style=\"color: #00af00; text-decoration-color: #00af00\">263</span>)            │        <span style=\"color: #00af00; text-decoration-color: #00af00\">67,591</span> │\n",
              "└─────────────────────────────────┴────────────────────────┴───────────────┘\n",
              "</pre>\n"
            ],
            "text/plain": [
              "┏━━━━━━━━━━━━━━━━━━━━━━━━━━━━━━━━━┳━━━━━━━━━━━━━━━━━━━━━━━━┳━━━━━━━━━━━━━━━┓\n",
              "┃\u001b[1m \u001b[0m\u001b[1mLayer (type)                   \u001b[0m\u001b[1m \u001b[0m┃\u001b[1m \u001b[0m\u001b[1mOutput Shape          \u001b[0m\u001b[1m \u001b[0m┃\u001b[1m \u001b[0m\u001b[1m      Param #\u001b[0m\u001b[1m \u001b[0m┃\n",
              "┡━━━━━━━━━━━━━━━━━━━━━━━━━━━━━━━━━╇━━━━━━━━━━━━━━━━━━━━━━━━╇━━━━━━━━━━━━━━━┩\n",
              "│ lstm (\u001b[38;5;33mLSTM\u001b[0m)                     │ (\u001b[38;5;45mNone\u001b[0m, \u001b[38;5;34m40\u001b[0m, \u001b[38;5;34m512\u001b[0m)        │     \u001b[38;5;34m1,052,672\u001b[0m │\n",
              "├─────────────────────────────────┼────────────────────────┼───────────────┤\n",
              "│ dropout (\u001b[38;5;33mDropout\u001b[0m)               │ (\u001b[38;5;45mNone\u001b[0m, \u001b[38;5;34m40\u001b[0m, \u001b[38;5;34m512\u001b[0m)        │             \u001b[38;5;34m0\u001b[0m │\n",
              "├─────────────────────────────────┼────────────────────────┼───────────────┤\n",
              "│ lstm_1 (\u001b[38;5;33mLSTM\u001b[0m)                   │ (\u001b[38;5;45mNone\u001b[0m, \u001b[38;5;34m256\u001b[0m)            │       \u001b[38;5;34m787,456\u001b[0m │\n",
              "├─────────────────────────────────┼────────────────────────┼───────────────┤\n",
              "│ dense (\u001b[38;5;33mDense\u001b[0m)                   │ (\u001b[38;5;45mNone\u001b[0m, \u001b[38;5;34m256\u001b[0m)            │        \u001b[38;5;34m65,792\u001b[0m │\n",
              "├─────────────────────────────────┼────────────────────────┼───────────────┤\n",
              "│ dropout_1 (\u001b[38;5;33mDropout\u001b[0m)             │ (\u001b[38;5;45mNone\u001b[0m, \u001b[38;5;34m256\u001b[0m)            │             \u001b[38;5;34m0\u001b[0m │\n",
              "├─────────────────────────────────┼────────────────────────┼───────────────┤\n",
              "│ dense_1 (\u001b[38;5;33mDense\u001b[0m)                 │ (\u001b[38;5;45mNone\u001b[0m, \u001b[38;5;34m263\u001b[0m)            │        \u001b[38;5;34m67,591\u001b[0m │\n",
              "└─────────────────────────────────┴────────────────────────┴───────────────┘\n"
            ]
          },
          "metadata": {},
          "output_type": "display_data"
        },
        {
          "data": {
            "text/html": [
              "<pre style=\"white-space:pre;overflow-x:auto;line-height:normal;font-family:Menlo,'DejaVu Sans Mono',consolas,'Courier New',monospace\"><span style=\"font-weight: bold\"> Total params: </span><span style=\"color: #00af00; text-decoration-color: #00af00\">1,973,511</span> (7.53 MB)\n",
              "</pre>\n"
            ],
            "text/plain": [
              "\u001b[1m Total params: \u001b[0m\u001b[38;5;34m1,973,511\u001b[0m (7.53 MB)\n"
            ]
          },
          "metadata": {},
          "output_type": "display_data"
        },
        {
          "data": {
            "text/html": [
              "<pre style=\"white-space:pre;overflow-x:auto;line-height:normal;font-family:Menlo,'DejaVu Sans Mono',consolas,'Courier New',monospace\"><span style=\"font-weight: bold\"> Trainable params: </span><span style=\"color: #00af00; text-decoration-color: #00af00\">1,973,511</span> (7.53 MB)\n",
              "</pre>\n"
            ],
            "text/plain": [
              "\u001b[1m Trainable params: \u001b[0m\u001b[38;5;34m1,973,511\u001b[0m (7.53 MB)\n"
            ]
          },
          "metadata": {},
          "output_type": "display_data"
        },
        {
          "data": {
            "text/html": [
              "<pre style=\"white-space:pre;overflow-x:auto;line-height:normal;font-family:Menlo,'DejaVu Sans Mono',consolas,'Courier New',monospace\"><span style=\"font-weight: bold\"> Non-trainable params: </span><span style=\"color: #00af00; text-decoration-color: #00af00\">0</span> (0.00 B)\n",
              "</pre>\n"
            ],
            "text/plain": [
              "\u001b[1m Non-trainable params: \u001b[0m\u001b[38;5;34m0\u001b[0m (0.00 B)\n"
            ]
          },
          "metadata": {},
          "output_type": "display_data"
        }
      ],
      "source": [
        "#Model's Summary\n",
        "model.summary()"
      ]
    },
    {
      "cell_type": "code",
      "execution_count": null,
      "metadata": {
        "_kg_hide-output": true,
        "colab": {
          "base_uri": "https://localhost:8080/"
        },
        "execution": {
          "iopub.execute_input": "2021-10-11T11:22:29.088315Z",
          "iopub.status.busy": "2021-10-11T11:22:29.088068Z",
          "iopub.status.idle": "2021-10-11T11:39:04.559223Z",
          "shell.execute_reply": "2021-10-11T11:39:04.558518Z",
          "shell.execute_reply.started": "2021-10-11T11:22:29.088288Z"
        },
        "id": "oXjvujDH-P1q",
        "outputId": "e9c77034-b3b8-4f69-e3f7-cd0b17957992",
        "trusted": true
      },
      "outputs": [
        {
          "name": "stdout",
          "output_type": "stream",
          "text": [
            "Epoch 1/200\n",
            "\u001b[1m168/168\u001b[0m \u001b[32m━━━━━━━━━━━━━━━━━━━━\u001b[0m\u001b[37m\u001b[0m \u001b[1m80s\u001b[0m 463ms/step - loss: 4.8988\n",
            "Epoch 2/200\n",
            "\u001b[1m168/168\u001b[0m \u001b[32m━━━━━━━━━━━━━━━━━━━━\u001b[0m\u001b[37m\u001b[0m \u001b[1m75s\u001b[0m 446ms/step - loss: 4.6052\n",
            "Epoch 3/200\n",
            "\u001b[1m168/168\u001b[0m \u001b[32m━━━━━━━━━━━━━━━━━━━━\u001b[0m\u001b[37m\u001b[0m \u001b[1m79s\u001b[0m 472ms/step - loss: 4.5892\n",
            "Epoch 4/200\n",
            "\u001b[1m168/168\u001b[0m \u001b[32m━━━━━━━━━━━━━━━━━━━━\u001b[0m\u001b[37m\u001b[0m \u001b[1m86s\u001b[0m 510ms/step - loss: 4.5808\n",
            "Epoch 5/200\n",
            "\u001b[1m168/168\u001b[0m \u001b[32m━━━━━━━━━━━━━━━━━━━━\u001b[0m\u001b[37m\u001b[0m \u001b[1m79s\u001b[0m 472ms/step - loss: 4.5675\n",
            "Epoch 6/200\n",
            "\u001b[1m168/168\u001b[0m \u001b[32m━━━━━━━━━━━━━━━━━━━━\u001b[0m\u001b[37m\u001b[0m \u001b[1m85s\u001b[0m 506ms/step - loss: 4.5696\n",
            "Epoch 7/200\n",
            "\u001b[1m168/168\u001b[0m \u001b[32m━━━━━━━━━━━━━━━━━━━━\u001b[0m\u001b[37m\u001b[0m \u001b[1m87s\u001b[0m 518ms/step - loss: 4.5642\n",
            "Epoch 8/200\n",
            "\u001b[1m168/168\u001b[0m \u001b[32m━━━━━━━━━━━━━━━━━━━━\u001b[0m\u001b[37m\u001b[0m \u001b[1m86s\u001b[0m 509ms/step - loss: 4.5631\n",
            "Epoch 9/200\n",
            "\u001b[1m168/168\u001b[0m \u001b[32m━━━━━━━━━━━━━━━━━━━━\u001b[0m\u001b[37m\u001b[0m \u001b[1m85s\u001b[0m 508ms/step - loss: 4.5532\n",
            "Epoch 10/200\n",
            "\u001b[1m168/168\u001b[0m \u001b[32m━━━━━━━━━━━━━━━━━━━━\u001b[0m\u001b[37m\u001b[0m \u001b[1m85s\u001b[0m 508ms/step - loss: 4.5464\n",
            "Epoch 11/200\n",
            "\u001b[1m168/168\u001b[0m \u001b[32m━━━━━━━━━━━━━━━━━━━━\u001b[0m\u001b[37m\u001b[0m \u001b[1m85s\u001b[0m 507ms/step - loss: 4.5555\n",
            "Epoch 12/200\n",
            "\u001b[1m168/168\u001b[0m \u001b[32m━━━━━━━━━━━━━━━━━━━━\u001b[0m\u001b[37m\u001b[0m \u001b[1m85s\u001b[0m 506ms/step - loss: 4.5409\n",
            "Epoch 13/200\n",
            "\u001b[1m168/168\u001b[0m \u001b[32m━━━━━━━━━━━━━━━━━━━━\u001b[0m\u001b[37m\u001b[0m \u001b[1m85s\u001b[0m 506ms/step - loss: 4.5456\n",
            "Epoch 14/200\n",
            "\u001b[1m168/168\u001b[0m \u001b[32m━━━━━━━━━━━━━━━━━━━━\u001b[0m\u001b[37m\u001b[0m \u001b[1m87s\u001b[0m 515ms/step - loss: 4.5427\n",
            "Epoch 15/200\n",
            "\u001b[1m168/168\u001b[0m \u001b[32m━━━━━━━━━━━━━━━━━━━━\u001b[0m\u001b[37m\u001b[0m \u001b[1m91s\u001b[0m 542ms/step - loss: 4.5164\n",
            "Epoch 16/200\n",
            "\u001b[1m168/168\u001b[0m \u001b[32m━━━━━━━━━━━━━━━━━━━━\u001b[0m\u001b[37m\u001b[0m \u001b[1m89s\u001b[0m 528ms/step - loss: 4.4688\n",
            "Epoch 17/200\n",
            "\u001b[1m168/168\u001b[0m \u001b[32m━━━━━━━━━━━━━━━━━━━━\u001b[0m\u001b[37m\u001b[0m \u001b[1m88s\u001b[0m 526ms/step - loss: 4.4781\n",
            "Epoch 18/200\n",
            "\u001b[1m168/168\u001b[0m \u001b[32m━━━━━━━━━━━━━━━━━━━━\u001b[0m\u001b[37m\u001b[0m \u001b[1m88s\u001b[0m 526ms/step - loss: 4.4520\n",
            "Epoch 19/200\n",
            "\u001b[1m168/168\u001b[0m \u001b[32m━━━━━━━━━━━━━━━━━━━━\u001b[0m\u001b[37m\u001b[0m \u001b[1m88s\u001b[0m 524ms/step - loss: 4.4674\n",
            "Epoch 20/200\n",
            "\u001b[1m168/168\u001b[0m \u001b[32m━━━━━━━━━━━━━━━━━━━━\u001b[0m\u001b[37m\u001b[0m \u001b[1m88s\u001b[0m 526ms/step - loss: 4.4627\n",
            "Epoch 21/200\n",
            "\u001b[1m168/168\u001b[0m \u001b[32m━━━━━━━━━━━━━━━━━━━━\u001b[0m\u001b[37m\u001b[0m \u001b[1m88s\u001b[0m 526ms/step - loss: 4.4421\n",
            "Epoch 22/200\n",
            "\u001b[1m168/168\u001b[0m \u001b[32m━━━━━━━━━━━━━━━━━━━━\u001b[0m\u001b[37m\u001b[0m \u001b[1m88s\u001b[0m 523ms/step - loss: 4.4403\n",
            "Epoch 23/200\n",
            "\u001b[1m168/168\u001b[0m \u001b[32m━━━━━━━━━━━━━━━━━━━━\u001b[0m\u001b[37m\u001b[0m \u001b[1m89s\u001b[0m 531ms/step - loss: 4.4389\n",
            "Epoch 24/200\n",
            "\u001b[1m168/168\u001b[0m \u001b[32m━━━━━━━━━━━━━━━━━━━━\u001b[0m\u001b[37m\u001b[0m \u001b[1m76s\u001b[0m 454ms/step - loss: 4.4267\n",
            "Epoch 25/200\n",
            "\u001b[1m168/168\u001b[0m \u001b[32m━━━━━━━━━━━━━━━━━━━━\u001b[0m\u001b[37m\u001b[0m \u001b[1m87s\u001b[0m 519ms/step - loss: 4.4306\n",
            "Epoch 26/200\n",
            "\u001b[1m168/168\u001b[0m \u001b[32m━━━━━━━━━━━━━━━━━━━━\u001b[0m\u001b[37m\u001b[0m \u001b[1m87s\u001b[0m 519ms/step - loss: 4.4769\n",
            "Epoch 27/200\n",
            "\u001b[1m168/168\u001b[0m \u001b[32m━━━━━━━━━━━━━━━━━━━━\u001b[0m\u001b[37m\u001b[0m \u001b[1m88s\u001b[0m 522ms/step - loss: 4.5782\n",
            "Epoch 28/200\n",
            "\u001b[1m168/168\u001b[0m \u001b[32m━━━━━━━━━━━━━━━━━━━━\u001b[0m\u001b[37m\u001b[0m \u001b[1m88s\u001b[0m 523ms/step - loss: 4.4945\n",
            "Epoch 29/200\n",
            "\u001b[1m168/168\u001b[0m \u001b[32m━━━━━━━━━━━━━━━━━━━━\u001b[0m\u001b[37m\u001b[0m \u001b[1m88s\u001b[0m 524ms/step - loss: 4.4581\n",
            "Epoch 30/200\n",
            "\u001b[1m168/168\u001b[0m \u001b[32m━━━━━━━━━━━━━━━━━━━━\u001b[0m\u001b[37m\u001b[0m \u001b[1m84s\u001b[0m 500ms/step - loss: 4.4516\n",
            "Epoch 31/200\n",
            "\u001b[1m168/168\u001b[0m \u001b[32m━━━━━━━━━━━━━━━━━━━━\u001b[0m\u001b[37m\u001b[0m \u001b[1m78s\u001b[0m 463ms/step - loss: 4.4399\n",
            "Epoch 32/200\n",
            "\u001b[1m168/168\u001b[0m \u001b[32m━━━━━━━━━━━━━━━━━━━━\u001b[0m\u001b[37m\u001b[0m \u001b[1m84s\u001b[0m 497ms/step - loss: 4.4372\n",
            "Epoch 33/200\n",
            "\u001b[1m168/168\u001b[0m \u001b[32m━━━━━━━━━━━━━━━━━━━━\u001b[0m\u001b[37m\u001b[0m \u001b[1m85s\u001b[0m 504ms/step - loss: 4.4226\n",
            "Epoch 34/200\n",
            "\u001b[1m168/168\u001b[0m \u001b[32m━━━━━━━━━━━━━━━━━━━━\u001b[0m\u001b[37m\u001b[0m \u001b[1m85s\u001b[0m 508ms/step - loss: 4.4177\n",
            "Epoch 35/200\n",
            "\u001b[1m168/168\u001b[0m \u001b[32m━━━━━━━━━━━━━━━━━━━━\u001b[0m\u001b[37m\u001b[0m \u001b[1m92s\u001b[0m 550ms/step - loss: 4.3961\n",
            "Epoch 36/200\n",
            "\u001b[1m168/168\u001b[0m \u001b[32m━━━━━━━━━━━━━━━━━━━━\u001b[0m\u001b[37m\u001b[0m \u001b[1m94s\u001b[0m 558ms/step - loss: 4.3850\n",
            "Epoch 37/200\n",
            "\u001b[1m168/168\u001b[0m \u001b[32m━━━━━━━━━━━━━━━━━━━━\u001b[0m\u001b[37m\u001b[0m \u001b[1m80s\u001b[0m 473ms/step - loss: 4.3863\n",
            "Epoch 38/200\n",
            "\u001b[1m168/168\u001b[0m \u001b[32m━━━━━━━━━━━━━━━━━━━━\u001b[0m\u001b[37m\u001b[0m \u001b[1m85s\u001b[0m 504ms/step - loss: 4.3725\n",
            "Epoch 39/200\n",
            "\u001b[1m168/168\u001b[0m \u001b[32m━━━━━━━━━━━━━━━━━━━━\u001b[0m\u001b[37m\u001b[0m \u001b[1m85s\u001b[0m 507ms/step - loss: 4.3491\n",
            "Epoch 40/200\n",
            "\u001b[1m168/168\u001b[0m \u001b[32m━━━━━━━━━━━━━━━━━━━━\u001b[0m\u001b[37m\u001b[0m \u001b[1m87s\u001b[0m 516ms/step - loss: 4.3407\n",
            "Epoch 41/200\n",
            "\u001b[1m168/168\u001b[0m \u001b[32m━━━━━━━━━━━━━━━━━━━━\u001b[0m\u001b[37m\u001b[0m \u001b[1m92s\u001b[0m 548ms/step - loss: 4.3235\n",
            "Epoch 42/200\n",
            "\u001b[1m168/168\u001b[0m \u001b[32m━━━━━━━━━━━━━━━━━━━━\u001b[0m\u001b[37m\u001b[0m \u001b[1m85s\u001b[0m 508ms/step - loss: 4.2981\n",
            "Epoch 43/200\n",
            "\u001b[1m168/168\u001b[0m \u001b[32m━━━━━━━━━━━━━━━━━━━━\u001b[0m\u001b[37m\u001b[0m \u001b[1m75s\u001b[0m 444ms/step - loss: 4.2818\n",
            "Epoch 44/200\n",
            "\u001b[1m168/168\u001b[0m \u001b[32m━━━━━━━━━━━━━━━━━━━━\u001b[0m\u001b[37m\u001b[0m \u001b[1m84s\u001b[0m 501ms/step - loss: 4.2382\n",
            "Epoch 45/200\n",
            "\u001b[1m168/168\u001b[0m \u001b[32m━━━━━━━━━━━━━━━━━━━━\u001b[0m\u001b[37m\u001b[0m \u001b[1m85s\u001b[0m 504ms/step - loss: 4.1946\n",
            "Epoch 46/200\n",
            "\u001b[1m168/168\u001b[0m \u001b[32m━━━━━━━━━━━━━━━━━━━━\u001b[0m\u001b[37m\u001b[0m \u001b[1m85s\u001b[0m 505ms/step - loss: 4.1454\n",
            "Epoch 47/200\n",
            "\u001b[1m168/168\u001b[0m \u001b[32m━━━━━━━━━━━━━━━━━━━━\u001b[0m\u001b[37m\u001b[0m \u001b[1m88s\u001b[0m 524ms/step - loss: 4.0895\n",
            "Epoch 48/200\n",
            "\u001b[1m168/168\u001b[0m \u001b[32m━━━━━━━━━━━━━━━━━━━━\u001b[0m\u001b[37m\u001b[0m \u001b[1m84s\u001b[0m 502ms/step - loss: 4.0218\n",
            "Epoch 49/200\n",
            "\u001b[1m168/168\u001b[0m \u001b[32m━━━━━━━━━━━━━━━━━━━━\u001b[0m\u001b[37m\u001b[0m \u001b[1m86s\u001b[0m 511ms/step - loss: 3.9394\n",
            "Epoch 50/200\n",
            "\u001b[1m168/168\u001b[0m \u001b[32m━━━━━━━━━━━━━━━━━━━━\u001b[0m\u001b[37m\u001b[0m \u001b[1m85s\u001b[0m 505ms/step - loss: 3.8535\n",
            "Epoch 51/200\n",
            "\u001b[1m168/168\u001b[0m \u001b[32m━━━━━━━━━━━━━━━━━━━━\u001b[0m\u001b[37m\u001b[0m \u001b[1m86s\u001b[0m 513ms/step - loss: 3.7154\n",
            "Epoch 52/200\n",
            "\u001b[1m168/168\u001b[0m \u001b[32m━━━━━━━━━━━━━━━━━━━━\u001b[0m\u001b[37m\u001b[0m \u001b[1m85s\u001b[0m 505ms/step - loss: 3.6069\n",
            "Epoch 53/200\n",
            "\u001b[1m168/168\u001b[0m \u001b[32m━━━━━━━━━━━━━━━━━━━━\u001b[0m\u001b[37m\u001b[0m \u001b[1m85s\u001b[0m 505ms/step - loss: 3.4453\n",
            "Epoch 54/200\n",
            "\u001b[1m168/168\u001b[0m \u001b[32m━━━━━━━━━━━━━━━━━━━━\u001b[0m\u001b[37m\u001b[0m \u001b[1m80s\u001b[0m 475ms/step - loss: 3.2848\n",
            "Epoch 55/200\n",
            "\u001b[1m168/168\u001b[0m \u001b[32m━━━━━━━━━━━━━━━━━━━━\u001b[0m\u001b[37m\u001b[0m \u001b[1m81s\u001b[0m 483ms/step - loss: 3.1031\n",
            "Epoch 56/200\n",
            "\u001b[1m168/168\u001b[0m \u001b[32m━━━━━━━━━━━━━━━━━━━━\u001b[0m\u001b[37m\u001b[0m \u001b[1m88s\u001b[0m 526ms/step - loss: 2.9161\n",
            "Epoch 57/200\n",
            "\u001b[1m168/168\u001b[0m \u001b[32m━━━━━━━━━━━━━━━━━━━━\u001b[0m\u001b[37m\u001b[0m \u001b[1m88s\u001b[0m 525ms/step - loss: 2.7200\n",
            "Epoch 58/200\n",
            "\u001b[1m168/168\u001b[0m \u001b[32m━━━━━━━━━━━━━━━━━━━━\u001b[0m\u001b[37m\u001b[0m \u001b[1m89s\u001b[0m 530ms/step - loss: 2.5522\n",
            "Epoch 59/200\n",
            "\u001b[1m168/168\u001b[0m \u001b[32m━━━━━━━━━━━━━━━━━━━━\u001b[0m\u001b[37m\u001b[0m \u001b[1m102s\u001b[0m 606ms/step - loss: 2.3478\n",
            "Epoch 60/200\n",
            "\u001b[1m168/168\u001b[0m \u001b[32m━━━━━━━━━━━━━━━━━━━━\u001b[0m\u001b[37m\u001b[0m \u001b[1m84s\u001b[0m 498ms/step - loss: 2.1579\n",
            "Epoch 61/200\n",
            "\u001b[1m168/168\u001b[0m \u001b[32m━━━━━━━━━━━━━━━━━━━━\u001b[0m\u001b[37m\u001b[0m \u001b[1m83s\u001b[0m 492ms/step - loss: 1.9745\n",
            "Epoch 62/200\n",
            "\u001b[1m168/168\u001b[0m \u001b[32m━━━━━━━━━━━━━━━━━━━━\u001b[0m\u001b[37m\u001b[0m \u001b[1m81s\u001b[0m 485ms/step - loss: 1.8379\n",
            "Epoch 63/200\n",
            "\u001b[1m168/168\u001b[0m \u001b[32m━━━━━━━━━━━━━━━━━━━━\u001b[0m\u001b[37m\u001b[0m \u001b[1m89s\u001b[0m 530ms/step - loss: 1.6607\n",
            "Epoch 64/200\n",
            "\u001b[1m168/168\u001b[0m \u001b[32m━━━━━━━━━━━━━━━━━━━━\u001b[0m\u001b[37m\u001b[0m \u001b[1m87s\u001b[0m 520ms/step - loss: 1.5209\n",
            "Epoch 65/200\n",
            "\u001b[1m168/168\u001b[0m \u001b[32m━━━━━━━━━━━━━━━━━━━━\u001b[0m\u001b[37m\u001b[0m \u001b[1m89s\u001b[0m 529ms/step - loss: 1.3843\n",
            "Epoch 66/200\n",
            "\u001b[1m168/168\u001b[0m \u001b[32m━━━━━━━━━━━━━━━━━━━━\u001b[0m\u001b[37m\u001b[0m \u001b[1m92s\u001b[0m 547ms/step - loss: 1.2758\n",
            "Epoch 67/200\n",
            "\u001b[1m168/168\u001b[0m \u001b[32m━━━━━━━━━━━━━━━━━━━━\u001b[0m\u001b[37m\u001b[0m \u001b[1m88s\u001b[0m 524ms/step - loss: 1.1598\n",
            "Epoch 68/200\n",
            "\u001b[1m168/168\u001b[0m \u001b[32m━━━━━━━━━━━━━━━━━━━━\u001b[0m\u001b[37m\u001b[0m \u001b[1m92s\u001b[0m 550ms/step - loss: 1.0607\n",
            "Epoch 69/200\n",
            "\u001b[1m168/168\u001b[0m \u001b[32m━━━━━━━━━━━━━━━━━━━━\u001b[0m\u001b[37m\u001b[0m \u001b[1m93s\u001b[0m 551ms/step - loss: 0.9631\n",
            "Epoch 70/200\n",
            "\u001b[1m168/168\u001b[0m \u001b[32m━━━━━━━━━━━━━━━━━━━━\u001b[0m\u001b[37m\u001b[0m \u001b[1m91s\u001b[0m 541ms/step - loss: 0.8815\n",
            "Epoch 71/200\n",
            "\u001b[1m168/168\u001b[0m \u001b[32m━━━━━━━━━━━━━━━━━━━━\u001b[0m\u001b[37m\u001b[0m \u001b[1m91s\u001b[0m 542ms/step - loss: 0.8019\n",
            "Epoch 72/200\n",
            "\u001b[1m168/168\u001b[0m \u001b[32m━━━━━━━━━━━━━━━━━━━━\u001b[0m\u001b[37m\u001b[0m \u001b[1m92s\u001b[0m 550ms/step - loss: 0.7295\n",
            "Epoch 73/200\n",
            "\u001b[1m168/168\u001b[0m \u001b[32m━━━━━━━━━━━━━━━━━━━━\u001b[0m\u001b[37m\u001b[0m \u001b[1m92s\u001b[0m 545ms/step - loss: 0.6770\n",
            "Epoch 74/200\n",
            "\u001b[1m168/168\u001b[0m \u001b[32m━━━━━━━━━━━━━━━━━━━━\u001b[0m\u001b[37m\u001b[0m \u001b[1m92s\u001b[0m 547ms/step - loss: 0.6468\n",
            "Epoch 75/200\n",
            "\u001b[1m168/168\u001b[0m \u001b[32m━━━━━━━━━━━━━━━━━━━━\u001b[0m\u001b[37m\u001b[0m \u001b[1m95s\u001b[0m 565ms/step - loss: 0.5850\n",
            "Epoch 76/200\n",
            "\u001b[1m168/168\u001b[0m \u001b[32m━━━━━━━━━━━━━━━━━━━━\u001b[0m\u001b[37m\u001b[0m \u001b[1m87s\u001b[0m 517ms/step - loss: 0.5383\n",
            "Epoch 77/200\n",
            "\u001b[1m168/168\u001b[0m \u001b[32m━━━━━━━━━━━━━━━━━━━━\u001b[0m\u001b[37m\u001b[0m \u001b[1m87s\u001b[0m 518ms/step - loss: 0.5140\n",
            "Epoch 78/200\n",
            "\u001b[1m168/168\u001b[0m \u001b[32m━━━━━━━━━━━━━━━━━━━━\u001b[0m\u001b[37m\u001b[0m \u001b[1m87s\u001b[0m 519ms/step - loss: 0.5008\n",
            "Epoch 79/200\n",
            "\u001b[1m168/168\u001b[0m \u001b[32m━━━━━━━━━━━━━━━━━━━━\u001b[0m\u001b[37m\u001b[0m \u001b[1m90s\u001b[0m 536ms/step - loss: 0.4672\n",
            "Epoch 80/200\n",
            "\u001b[1m168/168\u001b[0m \u001b[32m━━━━━━━━━━━━━━━━━━━━\u001b[0m\u001b[37m\u001b[0m \u001b[1m92s\u001b[0m 545ms/step - loss: 0.4227\n",
            "Epoch 81/200\n",
            "\u001b[1m168/168\u001b[0m \u001b[32m━━━━━━━━━━━━━━━━━━━━\u001b[0m\u001b[37m\u001b[0m \u001b[1m84s\u001b[0m 501ms/step - loss: 0.4111\n",
            "Epoch 82/200\n",
            "\u001b[1m168/168\u001b[0m \u001b[32m━━━━━━━━━━━━━━━━━━━━\u001b[0m\u001b[37m\u001b[0m \u001b[1m87s\u001b[0m 518ms/step - loss: 0.3848\n",
            "Epoch 83/200\n",
            "\u001b[1m168/168\u001b[0m \u001b[32m━━━━━━━━━━━━━━━━━━━━\u001b[0m\u001b[37m\u001b[0m \u001b[1m83s\u001b[0m 496ms/step - loss: 0.3877\n",
            "Epoch 84/200\n",
            "\u001b[1m168/168\u001b[0m \u001b[32m━━━━━━━━━━━━━━━━━━━━\u001b[0m\u001b[37m\u001b[0m \u001b[1m84s\u001b[0m 497ms/step - loss: 0.3657\n",
            "Epoch 85/200\n",
            "\u001b[1m168/168\u001b[0m \u001b[32m━━━━━━━━━━━━━━━━━━━━\u001b[0m\u001b[37m\u001b[0m \u001b[1m81s\u001b[0m 482ms/step - loss: 0.3404\n",
            "Epoch 86/200\n",
            "\u001b[1m168/168\u001b[0m \u001b[32m━━━━━━━━━━━━━━━━━━━━\u001b[0m\u001b[37m\u001b[0m \u001b[1m93s\u001b[0m 552ms/step - loss: 0.3305\n",
            "Epoch 87/200\n",
            "\u001b[1m168/168\u001b[0m \u001b[32m━━━━━━━━━━━━━━━━━━━━\u001b[0m\u001b[37m\u001b[0m \u001b[1m89s\u001b[0m 529ms/step - loss: 0.3295\n",
            "Epoch 88/200\n",
            "\u001b[1m168/168\u001b[0m \u001b[32m━━━━━━━━━━━━━━━━━━━━\u001b[0m\u001b[37m\u001b[0m \u001b[1m90s\u001b[0m 535ms/step - loss: 0.3003\n",
            "Epoch 89/200\n",
            "\u001b[1m168/168\u001b[0m \u001b[32m━━━━━━━━━━━━━━━━━━━━\u001b[0m\u001b[37m\u001b[0m \u001b[1m88s\u001b[0m 524ms/step - loss: 0.3154\n",
            "Epoch 90/200\n",
            "\u001b[1m168/168\u001b[0m \u001b[32m━━━━━━━━━━━━━━━━━━━━\u001b[0m\u001b[37m\u001b[0m \u001b[1m85s\u001b[0m 508ms/step - loss: 0.2773\n",
            "Epoch 91/200\n",
            "\u001b[1m168/168\u001b[0m \u001b[32m━━━━━━━━━━━━━━━━━━━━\u001b[0m\u001b[37m\u001b[0m \u001b[1m86s\u001b[0m 512ms/step - loss: 0.2728\n",
            "Epoch 92/200\n",
            "\u001b[1m168/168\u001b[0m \u001b[32m━━━━━━━━━━━━━━━━━━━━\u001b[0m\u001b[37m\u001b[0m \u001b[1m82s\u001b[0m 486ms/step - loss: 0.2734\n",
            "Epoch 93/200\n",
            "\u001b[1m168/168\u001b[0m \u001b[32m━━━━━━━━━━━━━━━━━━━━\u001b[0m\u001b[37m\u001b[0m \u001b[1m80s\u001b[0m 479ms/step - loss: 0.2629\n",
            "Epoch 94/200\n",
            "\u001b[1m168/168\u001b[0m \u001b[32m━━━━━━━━━━━━━━━━━━━━\u001b[0m\u001b[37m\u001b[0m \u001b[1m81s\u001b[0m 484ms/step - loss: 0.2562\n",
            "Epoch 95/200\n",
            "\u001b[1m168/168\u001b[0m \u001b[32m━━━━━━━━━━━━━━━━━━━━\u001b[0m\u001b[37m\u001b[0m \u001b[1m80s\u001b[0m 477ms/step - loss: 0.2609\n",
            "Epoch 96/200\n",
            "\u001b[1m168/168\u001b[0m \u001b[32m━━━━━━━━━━━━━━━━━━━━\u001b[0m\u001b[37m\u001b[0m \u001b[1m76s\u001b[0m 455ms/step - loss: 0.2411\n",
            "Epoch 97/200\n",
            "\u001b[1m168/168\u001b[0m \u001b[32m━━━━━━━━━━━━━━━━━━━━\u001b[0m\u001b[37m\u001b[0m \u001b[1m77s\u001b[0m 461ms/step - loss: 0.2493\n",
            "Epoch 98/200\n",
            "\u001b[1m168/168\u001b[0m \u001b[32m━━━━━━━━━━━━━━━━━━━━\u001b[0m\u001b[37m\u001b[0m \u001b[1m78s\u001b[0m 463ms/step - loss: 0.2219\n",
            "Epoch 99/200\n",
            "\u001b[1m168/168\u001b[0m \u001b[32m━━━━━━━━━━━━━━━━━━━━\u001b[0m\u001b[37m\u001b[0m \u001b[1m75s\u001b[0m 445ms/step - loss: 0.2206\n",
            "Epoch 100/200\n",
            "\u001b[1m168/168\u001b[0m \u001b[32m━━━━━━━━━━━━━━━━━━━━\u001b[0m\u001b[37m\u001b[0m \u001b[1m78s\u001b[0m 466ms/step - loss: 0.2175\n",
            "Epoch 101/200\n",
            "\u001b[1m168/168\u001b[0m \u001b[32m━━━━━━━━━━━━━━━━━━━━\u001b[0m\u001b[37m\u001b[0m \u001b[1m77s\u001b[0m 459ms/step - loss: 0.2098\n",
            "Epoch 102/200\n",
            "\u001b[1m168/168\u001b[0m \u001b[32m━━━━━━━━━━━━━━━━━━━━\u001b[0m\u001b[37m\u001b[0m \u001b[1m76s\u001b[0m 452ms/step - loss: 0.2117\n",
            "Epoch 103/200\n",
            "\u001b[1m168/168\u001b[0m \u001b[32m━━━━━━━━━━━━━━━━━━━━\u001b[0m\u001b[37m\u001b[0m \u001b[1m82s\u001b[0m 488ms/step - loss: 0.1816\n",
            "Epoch 104/200\n",
            "\u001b[1m168/168\u001b[0m \u001b[32m━━━━━━━━━━━━━━━━━━━━\u001b[0m\u001b[37m\u001b[0m \u001b[1m80s\u001b[0m 475ms/step - loss: 0.1859\n",
            "Epoch 105/200\n",
            "\u001b[1m168/168\u001b[0m \u001b[32m━━━━━━━━━━━━━━━━━━━━\u001b[0m\u001b[37m\u001b[0m \u001b[1m79s\u001b[0m 470ms/step - loss: 0.2086\n",
            "Epoch 106/200\n",
            "\u001b[1m168/168\u001b[0m \u001b[32m━━━━━━━━━━━━━━━━━━━━\u001b[0m\u001b[37m\u001b[0m \u001b[1m81s\u001b[0m 482ms/step - loss: 0.2126\n",
            "Epoch 107/200\n",
            "\u001b[1m168/168\u001b[0m \u001b[32m━━━━━━━━━━━━━━━━━━━━\u001b[0m\u001b[37m\u001b[0m \u001b[1m82s\u001b[0m 487ms/step - loss: 0.1909\n",
            "Epoch 108/200\n",
            "\u001b[1m168/168\u001b[0m \u001b[32m━━━━━━━━━━━━━━━━━━━━\u001b[0m\u001b[37m\u001b[0m \u001b[1m85s\u001b[0m 504ms/step - loss: 0.1841\n",
            "Epoch 109/200\n",
            "\u001b[1m168/168\u001b[0m \u001b[32m━━━━━━━━━━━━━━━━━━━━\u001b[0m\u001b[37m\u001b[0m \u001b[1m91s\u001b[0m 541ms/step - loss: 0.1792\n",
            "Epoch 110/200\n",
            "\u001b[1m168/168\u001b[0m \u001b[32m━━━━━━━━━━━━━━━━━━━━\u001b[0m\u001b[37m\u001b[0m \u001b[1m85s\u001b[0m 508ms/step - loss: 0.1893\n",
            "Epoch 111/200\n",
            "\u001b[1m168/168\u001b[0m \u001b[32m━━━━━━━━━━━━━━━━━━━━\u001b[0m\u001b[37m\u001b[0m \u001b[1m92s\u001b[0m 550ms/step - loss: 0.1734\n",
            "Epoch 112/200\n",
            "\u001b[1m168/168\u001b[0m \u001b[32m━━━━━━━━━━━━━━━━━━━━\u001b[0m\u001b[37m\u001b[0m \u001b[1m87s\u001b[0m 519ms/step - loss: 0.1775\n",
            "Epoch 113/200\n",
            "\u001b[1m168/168\u001b[0m \u001b[32m━━━━━━━━━━━━━━━━━━━━\u001b[0m\u001b[37m\u001b[0m \u001b[1m85s\u001b[0m 507ms/step - loss: 0.1668\n",
            "Epoch 114/200\n",
            "\u001b[1m168/168\u001b[0m \u001b[32m━━━━━━━━━━━━━━━━━━━━\u001b[0m\u001b[37m\u001b[0m \u001b[1m94s\u001b[0m 562ms/step - loss: 0.1732\n",
            "Epoch 115/200\n",
            "\u001b[1m168/168\u001b[0m \u001b[32m━━━━━━━━━━━━━━━━━━━━\u001b[0m\u001b[37m\u001b[0m \u001b[1m91s\u001b[0m 544ms/step - loss: 0.1648\n",
            "Epoch 116/200\n",
            "\u001b[1m168/168\u001b[0m \u001b[32m━━━━━━━━━━━━━━━━━━━━\u001b[0m\u001b[37m\u001b[0m \u001b[1m98s\u001b[0m 583ms/step - loss: 0.1719\n",
            "Epoch 117/200\n",
            "\u001b[1m168/168\u001b[0m \u001b[32m━━━━━━━━━━━━━━━━━━━━\u001b[0m\u001b[37m\u001b[0m \u001b[1m83s\u001b[0m 496ms/step - loss: 0.1526\n",
            "Epoch 118/200\n",
            "\u001b[1m168/168\u001b[0m \u001b[32m━━━━━━━━━━━━━━━━━━━━\u001b[0m\u001b[37m\u001b[0m \u001b[1m88s\u001b[0m 521ms/step - loss: 0.1620\n",
            "Epoch 119/200\n",
            "\u001b[1m168/168\u001b[0m \u001b[32m━━━━━━━━━━━━━━━━━━━━\u001b[0m\u001b[37m\u001b[0m \u001b[1m80s\u001b[0m 473ms/step - loss: 0.1643\n",
            "Epoch 120/200\n",
            "\u001b[1m168/168\u001b[0m \u001b[32m━━━━━━━━━━━━━━━━━━━━\u001b[0m\u001b[37m\u001b[0m \u001b[1m82s\u001b[0m 491ms/step - loss: 0.1655\n",
            "Epoch 121/200\n",
            "\u001b[1m168/168\u001b[0m \u001b[32m━━━━━━━━━━━━━━━━━━━━\u001b[0m\u001b[37m\u001b[0m \u001b[1m87s\u001b[0m 517ms/step - loss: 0.1482\n",
            "Epoch 122/200\n",
            "\u001b[1m168/168\u001b[0m \u001b[32m━━━━━━━━━━━━━━━━━━━━\u001b[0m\u001b[37m\u001b[0m \u001b[1m81s\u001b[0m 483ms/step - loss: 0.1476\n",
            "Epoch 123/200\n",
            "\u001b[1m168/168\u001b[0m \u001b[32m━━━━━━━━━━━━━━━━━━━━\u001b[0m\u001b[37m\u001b[0m \u001b[1m79s\u001b[0m 472ms/step - loss: 0.1377\n",
            "Epoch 124/200\n",
            "\u001b[1m168/168\u001b[0m \u001b[32m━━━━━━━━━━━━━━━━━━━━\u001b[0m\u001b[37m\u001b[0m \u001b[1m85s\u001b[0m 505ms/step - loss: 0.1601\n",
            "Epoch 125/200\n",
            "\u001b[1m168/168\u001b[0m \u001b[32m━━━━━━━━━━━━━━━━━━━━\u001b[0m\u001b[37m\u001b[0m \u001b[1m80s\u001b[0m 476ms/step - loss: 0.1438\n",
            "Epoch 126/200\n",
            "\u001b[1m168/168\u001b[0m \u001b[32m━━━━━━━━━━━━━━━━━━━━\u001b[0m\u001b[37m\u001b[0m \u001b[1m79s\u001b[0m 469ms/step - loss: 0.1408\n",
            "Epoch 127/200\n",
            "\u001b[1m168/168\u001b[0m \u001b[32m━━━━━━━━━━━━━━━━━━━━\u001b[0m\u001b[37m\u001b[0m \u001b[1m87s\u001b[0m 518ms/step - loss: 0.1402\n",
            "Epoch 128/200\n",
            "\u001b[1m168/168\u001b[0m \u001b[32m━━━━━━━━━━━━━━━━━━━━\u001b[0m\u001b[37m\u001b[0m \u001b[1m83s\u001b[0m 491ms/step - loss: 0.1505\n",
            "Epoch 129/200\n",
            "\u001b[1m168/168\u001b[0m \u001b[32m━━━━━━━━━━━━━━━━━━━━\u001b[0m\u001b[37m\u001b[0m \u001b[1m84s\u001b[0m 501ms/step - loss: 0.1416\n",
            "Epoch 130/200\n",
            "\u001b[1m168/168\u001b[0m \u001b[32m━━━━━━━━━━━━━━━━━━━━\u001b[0m\u001b[37m\u001b[0m \u001b[1m84s\u001b[0m 501ms/step - loss: 0.1442\n",
            "Epoch 131/200\n",
            "\u001b[1m168/168\u001b[0m \u001b[32m━━━━━━━━━━━━━━━━━━━━\u001b[0m\u001b[37m\u001b[0m \u001b[1m90s\u001b[0m 538ms/step - loss: 0.1347\n",
            "Epoch 132/200\n",
            "\u001b[1m168/168\u001b[0m \u001b[32m━━━━━━━━━━━━━━━━━━━━\u001b[0m\u001b[37m\u001b[0m \u001b[1m85s\u001b[0m 507ms/step - loss: 0.1331\n",
            "Epoch 133/200\n",
            "\u001b[1m168/168\u001b[0m \u001b[32m━━━━━━━━━━━━━━━━━━━━\u001b[0m\u001b[37m\u001b[0m \u001b[1m85s\u001b[0m 507ms/step - loss: 0.1398\n",
            "Epoch 134/200\n",
            "\u001b[1m168/168\u001b[0m \u001b[32m━━━━━━━━━━━━━━━━━━━━\u001b[0m\u001b[37m\u001b[0m \u001b[1m81s\u001b[0m 482ms/step - loss: 0.1374\n",
            "Epoch 135/200\n",
            "\u001b[1m168/168\u001b[0m \u001b[32m━━━━━━━━━━━━━━━━━━━━\u001b[0m\u001b[37m\u001b[0m \u001b[1m80s\u001b[0m 478ms/step - loss: 0.1288\n",
            "Epoch 136/200\n",
            "\u001b[1m168/168\u001b[0m \u001b[32m━━━━━━━━━━━━━━━━━━━━\u001b[0m\u001b[37m\u001b[0m \u001b[1m79s\u001b[0m 471ms/step - loss: 0.1231\n",
            "Epoch 137/200\n",
            "\u001b[1m168/168\u001b[0m \u001b[32m━━━━━━━━━━━━━━━━━━━━\u001b[0m\u001b[37m\u001b[0m \u001b[1m79s\u001b[0m 469ms/step - loss: 0.1356\n",
            "Epoch 138/200\n",
            "\u001b[1m168/168\u001b[0m \u001b[32m━━━━━━━━━━━━━━━━━━━━\u001b[0m\u001b[37m\u001b[0m \u001b[1m86s\u001b[0m 512ms/step - loss: 0.1135\n",
            "Epoch 139/200\n",
            "\u001b[1m168/168\u001b[0m \u001b[32m━━━━━━━━━━━━━━━━━━━━\u001b[0m\u001b[37m\u001b[0m \u001b[1m83s\u001b[0m 496ms/step - loss: 0.1147\n",
            "Epoch 140/200\n",
            "\u001b[1m168/168\u001b[0m \u001b[32m━━━━━━━━━━━━━━━━━━━━\u001b[0m\u001b[37m\u001b[0m \u001b[1m90s\u001b[0m 536ms/step - loss: 0.1090\n",
            "Epoch 141/200\n",
            "\u001b[1m168/168\u001b[0m \u001b[32m━━━━━━━━━━━━━━━━━━━━\u001b[0m\u001b[37m\u001b[0m \u001b[1m90s\u001b[0m 534ms/step - loss: 0.1433\n",
            "Epoch 142/200\n",
            "\u001b[1m168/168\u001b[0m \u001b[32m━━━━━━━━━━━━━━━━━━━━\u001b[0m\u001b[37m\u001b[0m \u001b[1m92s\u001b[0m 550ms/step - loss: 0.1325\n",
            "Epoch 143/200\n",
            "\u001b[1m168/168\u001b[0m \u001b[32m━━━━━━━━━━━━━━━━━━━━\u001b[0m\u001b[37m\u001b[0m \u001b[1m89s\u001b[0m 526ms/step - loss: 0.1201\n",
            "Epoch 144/200\n",
            "\u001b[1m168/168\u001b[0m \u001b[32m━━━━━━━━━━━━━━━━━━━━\u001b[0m\u001b[37m\u001b[0m \u001b[1m89s\u001b[0m 530ms/step - loss: 0.1074\n",
            "Epoch 145/200\n",
            "\u001b[1m168/168\u001b[0m \u001b[32m━━━━━━━━━━━━━━━━━━━━\u001b[0m\u001b[37m\u001b[0m \u001b[1m88s\u001b[0m 522ms/step - loss: 0.1092\n",
            "Epoch 146/200\n",
            "\u001b[1m168/168\u001b[0m \u001b[32m━━━━━━━━━━━━━━━━━━━━\u001b[0m\u001b[37m\u001b[0m \u001b[1m86s\u001b[0m 510ms/step - loss: 0.1161\n",
            "Epoch 147/200\n",
            "\u001b[1m168/168\u001b[0m \u001b[32m━━━━━━━━━━━━━━━━━━━━\u001b[0m\u001b[37m\u001b[0m \u001b[1m88s\u001b[0m 526ms/step - loss: 0.1216\n",
            "Epoch 148/200\n",
            "\u001b[1m168/168\u001b[0m \u001b[32m━━━━━━━━━━━━━━━━━━━━\u001b[0m\u001b[37m\u001b[0m \u001b[1m85s\u001b[0m 505ms/step - loss: 0.1110\n",
            "Epoch 149/200\n",
            "\u001b[1m168/168\u001b[0m \u001b[32m━━━━━━━━━━━━━━━━━━━━\u001b[0m\u001b[37m\u001b[0m \u001b[1m83s\u001b[0m 494ms/step - loss: 0.1129\n",
            "Epoch 150/200\n",
            "\u001b[1m168/168\u001b[0m \u001b[32m━━━━━━━━━━━━━━━━━━━━\u001b[0m\u001b[37m\u001b[0m \u001b[1m82s\u001b[0m 489ms/step - loss: 0.1088\n",
            "Epoch 151/200\n",
            "\u001b[1m168/168\u001b[0m \u001b[32m━━━━━━━━━━━━━━━━━━━━\u001b[0m\u001b[37m\u001b[0m \u001b[1m80s\u001b[0m 474ms/step - loss: 0.1145\n",
            "Epoch 152/200\n",
            "\u001b[1m168/168\u001b[0m \u001b[32m━━━━━━━━━━━━━━━━━━━━\u001b[0m\u001b[37m\u001b[0m \u001b[1m84s\u001b[0m 498ms/step - loss: 0.1024\n",
            "Epoch 153/200\n",
            "\u001b[1m168/168\u001b[0m \u001b[32m━━━━━━━━━━━━━━━━━━━━\u001b[0m\u001b[37m\u001b[0m \u001b[1m79s\u001b[0m 472ms/step - loss: 0.1046\n",
            "Epoch 154/200\n",
            "\u001b[1m168/168\u001b[0m \u001b[32m━━━━━━━━━━━━━━━━━━━━\u001b[0m\u001b[37m\u001b[0m \u001b[1m79s\u001b[0m 470ms/step - loss: 0.1066\n",
            "Epoch 155/200\n",
            "\u001b[1m168/168\u001b[0m \u001b[32m━━━━━━━━━━━━━━━━━━━━\u001b[0m\u001b[37m\u001b[0m \u001b[1m79s\u001b[0m 470ms/step - loss: 0.1146\n",
            "Epoch 156/200\n",
            "\u001b[1m168/168\u001b[0m \u001b[32m━━━━━━━━━━━━━━━━━━━━\u001b[0m\u001b[37m\u001b[0m \u001b[1m87s\u001b[0m 519ms/step - loss: 0.1108\n",
            "Epoch 157/200\n",
            "\u001b[1m168/168\u001b[0m \u001b[32m━━━━━━━━━━━━━━━━━━━━\u001b[0m\u001b[37m\u001b[0m \u001b[1m86s\u001b[0m 513ms/step - loss: 0.0980\n",
            "Epoch 158/200\n",
            "\u001b[1m168/168\u001b[0m \u001b[32m━━━━━━━━━━━━━━━━━━━━\u001b[0m\u001b[37m\u001b[0m \u001b[1m87s\u001b[0m 520ms/step - loss: 0.1045\n",
            "Epoch 159/200\n",
            "\u001b[1m168/168\u001b[0m \u001b[32m━━━━━━━━━━━━━━━━━━━━\u001b[0m\u001b[37m\u001b[0m \u001b[1m77s\u001b[0m 459ms/step - loss: 0.1038\n",
            "Epoch 160/200\n",
            "\u001b[1m168/168\u001b[0m \u001b[32m━━━━━━━━━━━━━━━━━━━━\u001b[0m\u001b[37m\u001b[0m \u001b[1m82s\u001b[0m 487ms/step - loss: 0.0994\n",
            "Epoch 161/200\n",
            "\u001b[1m168/168\u001b[0m \u001b[32m━━━━━━━━━━━━━━━━━━━━\u001b[0m\u001b[37m\u001b[0m \u001b[1m86s\u001b[0m 512ms/step - loss: 0.0989\n",
            "Epoch 162/200\n",
            "\u001b[1m168/168\u001b[0m \u001b[32m━━━━━━━━━━━━━━━━━━━━\u001b[0m\u001b[37m\u001b[0m \u001b[1m86s\u001b[0m 514ms/step - loss: 0.1034\n",
            "Epoch 163/200\n",
            "\u001b[1m168/168\u001b[0m \u001b[32m━━━━━━━━━━━━━━━━━━━━\u001b[0m\u001b[37m\u001b[0m \u001b[1m85s\u001b[0m 508ms/step - loss: 0.0926\n",
            "Epoch 164/200\n",
            "\u001b[1m168/168\u001b[0m \u001b[32m━━━━━━━━━━━━━━━━━━━━\u001b[0m\u001b[37m\u001b[0m \u001b[1m85s\u001b[0m 507ms/step - loss: 0.1008\n",
            "Epoch 165/200\n",
            "\u001b[1m168/168\u001b[0m \u001b[32m━━━━━━━━━━━━━━━━━━━━\u001b[0m\u001b[37m\u001b[0m \u001b[1m85s\u001b[0m 506ms/step - loss: 0.0980\n",
            "Epoch 166/200\n",
            "\u001b[1m168/168\u001b[0m \u001b[32m━━━━━━━━━━━━━━━━━━━━\u001b[0m\u001b[37m\u001b[0m \u001b[1m85s\u001b[0m 503ms/step - loss: 0.1097\n",
            "Epoch 167/200\n",
            "\u001b[1m168/168\u001b[0m \u001b[32m━━━━━━━━━━━━━━━━━━━━\u001b[0m\u001b[37m\u001b[0m \u001b[1m85s\u001b[0m 505ms/step - loss: 0.0911\n",
            "Epoch 168/200\n",
            "\u001b[1m168/168\u001b[0m \u001b[32m━━━━━━━━━━━━━━━━━━━━\u001b[0m\u001b[37m\u001b[0m \u001b[1m85s\u001b[0m 506ms/step - loss: 0.0906\n",
            "Epoch 169/200\n",
            "\u001b[1m168/168\u001b[0m \u001b[32m━━━━━━━━━━━━━━━━━━━━\u001b[0m\u001b[37m\u001b[0m \u001b[1m87s\u001b[0m 516ms/step - loss: 0.0960\n",
            "Epoch 170/200\n",
            "\u001b[1m168/168\u001b[0m \u001b[32m━━━━━━━━━━━━━━━━━━━━\u001b[0m\u001b[37m\u001b[0m \u001b[1m85s\u001b[0m 506ms/step - loss: 0.0912\n",
            "Epoch 171/200\n",
            "\u001b[1m168/168\u001b[0m \u001b[32m━━━━━━━━━━━━━━━━━━━━\u001b[0m\u001b[37m\u001b[0m \u001b[1m85s\u001b[0m 504ms/step - loss: 0.0937\n",
            "Epoch 172/200\n",
            "\u001b[1m168/168\u001b[0m \u001b[32m━━━━━━━━━━━━━━━━━━━━\u001b[0m\u001b[37m\u001b[0m \u001b[1m85s\u001b[0m 505ms/step - loss: 0.0955\n",
            "Epoch 173/200\n",
            "\u001b[1m168/168\u001b[0m \u001b[32m━━━━━━━━━━━━━━━━━━━━\u001b[0m\u001b[37m\u001b[0m \u001b[1m85s\u001b[0m 506ms/step - loss: 0.0992\n",
            "Epoch 174/200\n",
            "\u001b[1m168/168\u001b[0m \u001b[32m━━━━━━━━━━━━━━━━━━━━\u001b[0m\u001b[37m\u001b[0m \u001b[1m85s\u001b[0m 505ms/step - loss: 0.1012\n",
            "Epoch 175/200\n",
            "\u001b[1m168/168\u001b[0m \u001b[32m━━━━━━━━━━━━━━━━━━━━\u001b[0m\u001b[37m\u001b[0m \u001b[1m86s\u001b[0m 515ms/step - loss: 0.0951\n",
            "Epoch 176/200\n",
            "\u001b[1m168/168\u001b[0m \u001b[32m━━━━━━━━━━━━━━━━━━━━\u001b[0m\u001b[37m\u001b[0m \u001b[1m89s\u001b[0m 532ms/step - loss: 0.0890\n",
            "Epoch 177/200\n",
            "\u001b[1m168/168\u001b[0m \u001b[32m━━━━━━━━━━━━━━━━━━━━\u001b[0m\u001b[37m\u001b[0m \u001b[1m87s\u001b[0m 520ms/step - loss: 0.0888\n",
            "Epoch 178/200\n",
            "\u001b[1m168/168\u001b[0m \u001b[32m━━━━━━━━━━━━━━━━━━━━\u001b[0m\u001b[37m\u001b[0m \u001b[1m85s\u001b[0m 504ms/step - loss: 0.0895\n",
            "Epoch 179/200\n",
            "\u001b[1m168/168\u001b[0m \u001b[32m━━━━━━━━━━━━━━━━━━━━\u001b[0m\u001b[37m\u001b[0m \u001b[1m85s\u001b[0m 505ms/step - loss: 0.0924\n",
            "Epoch 180/200\n",
            "\u001b[1m168/168\u001b[0m \u001b[32m━━━━━━━━━━━━━━━━━━━━\u001b[0m\u001b[37m\u001b[0m \u001b[1m85s\u001b[0m 508ms/step - loss: 0.0883\n",
            "Epoch 181/200\n",
            "\u001b[1m168/168\u001b[0m \u001b[32m━━━━━━━━━━━━━━━━━━━━\u001b[0m\u001b[37m\u001b[0m \u001b[1m86s\u001b[0m 511ms/step - loss: 0.0926\n",
            "Epoch 182/200\n",
            "\u001b[1m168/168\u001b[0m \u001b[32m━━━━━━━━━━━━━━━━━━━━\u001b[0m\u001b[37m\u001b[0m \u001b[1m85s\u001b[0m 507ms/step - loss: 0.0949\n",
            "Epoch 183/200\n",
            "\u001b[1m168/168\u001b[0m \u001b[32m━━━━━━━━━━━━━━━━━━━━\u001b[0m\u001b[37m\u001b[0m \u001b[1m87s\u001b[0m 518ms/step - loss: 0.0821\n",
            "Epoch 184/200\n",
            "\u001b[1m168/168\u001b[0m \u001b[32m━━━━━━━━━━━━━━━━━━━━\u001b[0m\u001b[37m\u001b[0m \u001b[1m85s\u001b[0m 504ms/step - loss: 0.0787\n",
            "Epoch 185/200\n",
            "\u001b[1m168/168\u001b[0m \u001b[32m━━━━━━━━━━━━━━━━━━━━\u001b[0m\u001b[37m\u001b[0m \u001b[1m84s\u001b[0m 498ms/step - loss: 0.0894\n",
            "Epoch 186/200\n",
            "\u001b[1m168/168\u001b[0m \u001b[32m━━━━━━━━━━━━━━━━━━━━\u001b[0m\u001b[37m\u001b[0m \u001b[1m82s\u001b[0m 487ms/step - loss: 0.0880\n",
            "Epoch 187/200\n",
            "\u001b[1m168/168\u001b[0m \u001b[32m━━━━━━━━━━━━━━━━━━━━\u001b[0m\u001b[37m\u001b[0m \u001b[1m85s\u001b[0m 505ms/step - loss: 0.0681\n",
            "Epoch 188/200\n",
            "\u001b[1m168/168\u001b[0m \u001b[32m━━━━━━━━━━━━━━━━━━━━\u001b[0m\u001b[37m\u001b[0m \u001b[1m86s\u001b[0m 511ms/step - loss: 0.0782\n",
            "Epoch 189/200\n",
            "\u001b[1m168/168\u001b[0m \u001b[32m━━━━━━━━━━━━━━━━━━━━\u001b[0m\u001b[37m\u001b[0m \u001b[1m86s\u001b[0m 510ms/step - loss: 0.0867\n",
            "Epoch 190/200\n",
            "\u001b[1m168/168\u001b[0m \u001b[32m━━━━━━━━━━━━━━━━━━━━\u001b[0m\u001b[37m\u001b[0m \u001b[1m86s\u001b[0m 509ms/step - loss: 0.0793\n",
            "Epoch 191/200\n",
            "\u001b[1m168/168\u001b[0m \u001b[32m━━━━━━━━━━━━━━━━━━━━\u001b[0m\u001b[37m\u001b[0m \u001b[1m87s\u001b[0m 515ms/step - loss: 0.0816\n",
            "Epoch 192/200\n",
            "\u001b[1m168/168\u001b[0m \u001b[32m━━━━━━━━━━━━━━━━━━━━\u001b[0m\u001b[37m\u001b[0m \u001b[1m86s\u001b[0m 509ms/step - loss: 0.0881\n",
            "Epoch 193/200\n",
            "\u001b[1m168/168\u001b[0m \u001b[32m━━━━━━━━━━━━━━━━━━━━\u001b[0m\u001b[37m\u001b[0m \u001b[1m84s\u001b[0m 502ms/step - loss: 0.0760\n",
            "Epoch 194/200\n",
            "\u001b[1m168/168\u001b[0m \u001b[32m━━━━━━━━━━━━━━━━━━━━\u001b[0m\u001b[37m\u001b[0m \u001b[1m85s\u001b[0m 504ms/step - loss: 0.0775\n",
            "Epoch 195/200\n",
            "\u001b[1m168/168\u001b[0m \u001b[32m━━━━━━━━━━━━━━━━━━━━\u001b[0m\u001b[37m\u001b[0m \u001b[1m84s\u001b[0m 503ms/step - loss: 0.0799\n",
            "Epoch 196/200\n",
            "\u001b[1m168/168\u001b[0m \u001b[32m━━━━━━━━━━━━━━━━━━━━\u001b[0m\u001b[37m\u001b[0m \u001b[1m84s\u001b[0m 502ms/step - loss: 0.0761\n",
            "Epoch 197/200\n",
            "\u001b[1m168/168\u001b[0m \u001b[32m━━━━━━━━━━━━━━━━━━━━\u001b[0m\u001b[37m\u001b[0m \u001b[1m80s\u001b[0m 476ms/step - loss: 0.0852\n",
            "Epoch 198/200\n",
            "\u001b[1m168/168\u001b[0m \u001b[32m━━━━━━━━━━━━━━━━━━━━\u001b[0m\u001b[37m\u001b[0m \u001b[1m78s\u001b[0m 467ms/step - loss: 0.0724\n",
            "Epoch 199/200\n",
            "\u001b[1m168/168\u001b[0m \u001b[32m━━━━━━━━━━━━━━━━━━━━\u001b[0m\u001b[37m\u001b[0m \u001b[1m80s\u001b[0m 473ms/step - loss: 0.0735\n",
            "Epoch 200/200\n",
            "\u001b[1m168/168\u001b[0m \u001b[32m━━━━━━━━━━━━━━━━━━━━\u001b[0m\u001b[37m\u001b[0m \u001b[1m84s\u001b[0m 499ms/step - loss: 0.0777\n"
          ]
        },
        {
          "name": "stderr",
          "output_type": "stream",
          "text": [
            "WARNING:absl:You are saving your model as an HDF5 file via `model.save()` or `keras.saving.save_model(model)`. This file format is considered legacy. We recommend using instead the native Keras format, e.g. `model.save('my_model.keras')` or `keras.saving.save_model(model, 'my_model.keras')`. \n"
          ]
        },
        {
          "data": {
            "text/plain": [
              "[Text(0.5, 0, 'Epochs')]"
            ]
          },
          "execution_count": 52,
          "metadata": {},
          "output_type": "execute_result"
        },
        {
          "data": {
            "image/png": "[encoded data removed]",
            "text/plain": [
              "<Figure size 1500x400 with 1 Axes>"
            ]
          },
          "metadata": {
            "image/png": {
              "height": 411,
              "width": 1220
            }
          },
          "output_type": "display_data"
        }
      ],
      "source": [
        "#Training the Model\n",
        "history = model.fit(X_train, y_train, batch_size=256, epochs=200)\n",
        "model.save('model/my_model.h5')\n",
        "\n",
        "#Plotting the learnings\n",
        "history_df = pd.DataFrame(history.history)\n",
        "fig = plt.figure(figsize=(15,4), facecolor=\"#97BACB\")\n",
        "fig.suptitle(\"Learning Plot of Model for Loss\")\n",
        "pl=sns.lineplot(data=history_df[\"loss\"],color=\"#444160\")\n",
        "pl.set(ylabel =\"Training Loss\")\n",
        "pl.set(xlabel =\"Epochs\")"
      ]
    },
    {
      "cell_type": "markdown",
      "metadata": {
        "id": "pz99JnFa-P1q"
      },
      "source": [
        "# EVALUATING MODELS\n",
        "\n",
        "Now that I have my model trained on the MIDI files of piano music, let us see how it performs.\n",
        "\n",
        "**To evaluate my model, I shall be having a look at:**\n",
        "* The performance of the model via Learning Curves (the image above)\n",
        "* The melody created"
      ]
    },
    {
      "cell_type": "markdown",
      "metadata": {
        "id": "KdbccKin-P1r"
      },
      "source": [
        "**Generating the Melody**\n",
        "\n",
        "A function to obtain the generated music"
      ]
    },
    {
      "cell_type": "code",
      "execution_count": 16,
      "metadata": {},
      "outputs": [
        {
          "name": "stderr",
          "output_type": "stream",
          "text": [
            "WARNING:absl:Compiled the loaded model, but the compiled metrics have yet to be built. `model.compile_metrics` will be empty until you train or evaluate the model.\n"
          ]
        }
      ],
      "source": [
        "import tensorflow as tf\n",
        "model = tf.keras.models.load_model('model/my_model.h5')"
      ]
    },
    {
      "cell_type": "code",
      "execution_count": 17,
      "metadata": {
        "execution": {
          "iopub.execute_input": "2021-10-11T11:39:04.93586Z",
          "iopub.status.busy": "2021-10-11T11:39:04.935517Z",
          "iopub.status.idle": "2021-10-11T11:39:09.963958Z",
          "shell.execute_reply": "2021-10-11T11:39:09.962264Z",
          "shell.execute_reply.started": "2021-10-11T11:39:04.935822Z"
        },
        "id": "HHols5xI-P1r",
        "outputId": "d39ad73a-7ae4-41e3-b968-77f3173464b8",
        "trusted": true
      },
      "outputs": [
        {
          "data": {
            "image/png": "[encoded data removed]",
            "text/plain": [
              "<IPython.core.display.Image object>"
            ]
          },
          "metadata": {},
          "output_type": "display_data"
        }
      ],
      "source": [
        "def Melody_Generator(Note_Count):\n",
        "    seed = X_seed[np.random.randint(0,len(X_seed)-1)]\n",
        "    Music = \"\"\n",
        "    Notes_Generated=[]\n",
        "    for i in range(Note_Count):\n",
        "        seed = seed.reshape(1,length,1)\n",
        "        prediction = model.predict(seed, verbose=0)[0]\n",
        "        exp_preds = np.exp(prediction)\n",
        "        prediction = exp_preds / np.sum(exp_preds)\n",
        "        index = np.argmax(prediction)\n",
        "        index_N = index/ float(L_symb)\n",
        "        Notes_Generated.append(index)\n",
        "        Music = [reverse_mapping[char] for char in Notes_Generated]\n",
        "        seed = np.insert(seed[0],len(seed[0]),index_N)\n",
        "        seed = seed[1:]\n",
        "    #Now, we have music in form or a list of chords and notes and we want to be a midi file.\n",
        "    Melody = chords_n_notes(Music)\n",
        "    Melody_midi = stream.Stream(Melody)\n",
        "    return Music,Melody_midi\n",
        "\n",
        "\n",
        "#getting the Notes and Melody created by the model\n",
        "Music_notes, Melody = Melody_Generator(100)\n",
        "show(Melody)"
      ]
    },
    {
      "cell_type": "markdown",
      "metadata": {
        "id": "8IQ4-lGZ-P1r"
      },
      "source": [
        "This sure looks like music! To check if it sounds like music we have to listen to the MIDI file.\n",
        "\n",
        "**Melody Generated Sample**"
      ]
    },
    {
      "cell_type": "code",
      "execution_count": 18,
      "metadata": {
        "id": "3JMKOelRP3DX",
        "outputId": "78f3ac91-4366-4bb1-dcea-a1f0030a2a72"
      },
      "outputs": [
        {
          "data": {
            "text/html": [
              "\n",
              "        <div id=\"midiPlayerDiv459139\"></div>\n",
              "        <link rel=\"stylesheet\" href=\"https://cuthbertLab.github.io/music21j/css/m21.css\">\n",
              "        \n",
              "        <script\n",
              "        src=\"https://cdnjs.cloudflare.com/ajax/libs/require.js/2.3.6/require.min.js\"\n",
              "        ></script>\n",
              "    \n",
              "        <script>\n",
              "        function midiPlayerDiv459139_play() {\n",
              "            const rq = require.config({\n",
              "                paths: {\n",
              "                    'music21': 'https://cuthbertLab.github.io/music21j/releases/music21.debug',\n",
              "                }\n",
              "            });\n",
              "            rq(['music21'], function(music21) {\n",
              "                mp = new music21.miditools.MidiPlayer();\n",
              "                mp.addPlayer(\"#midiPlayerDiv459139\");\n",
              "                mp.base64Load(\"data:audio/midi;base64,TVRoZAAAAAYAAQACJ2BNVHJrAAAAFAD/UQMHoSAA/1gEBAIYCM5g/y8ATVRyawAABTIA/wMAAOAAQM5gkExazmCATAAAkEBazmCAQAAAkEpazmCASgAAkD5azmCAPgAAkEhazmCASAAAkDxazmCAPAAAkEdazmCARwAAkDtazmCAOwAAkEVazmCARQAAkDlazmCAOQAAkENazmCAQwAAkDdazmCANwAAkEVazmCARQAAkDlazmCAOQAAkEdazmCARwAAkDtazmCAOwAAkDxazmCAPAAAkCVazmCAJQAAkC1azmCALQAAkEVazmCARQAAkDRazmCANAAAkEVaAJBFWgCQPVrOYIBFAACARQAAgD0AAJBHWgCQR1oAkEBazmCARwAAgEcAAIBAAACQOVrOYIA5AACQQVrOYIBBAACQPFoAkDxaAJA/Ws5ggDwAAIA8AACAPwAAkCxazmCALAAAkE5azmCATgAAkExazmCATAAAkDVazmCANQAAkD1azmCAPQAAkDxazmCAPAAAkEJazmCAQgAAkEFaAJBBWgCQRFrOYIBBAACAQQAAgEQAAJA/Ws5ggD8AAJA/Ws5ggD8AAJA1Ws5ggDUAAJA1Ws5ggDUAAJBBWgCQQVoAkERazmCAQQAAgEEAAIBEAACQSVrOYIBJAACQSVrOYIBJAACQPVoAkD1aAJBBWs5ggD0AAIA9AACAQQAAkD1aAJA9WgCQQVrOYIA9AACAPQAAgEEAAJA8Ws5ggDwAAJA9WgCQPVoAkENazmCAPQAAgD0AAIBDAACQPVoAkD1aAJBDWs5ggD0AAIA9AACAQwAAkERazmCARAAAkEtazmCASwAAkDpazmCAOgAAkDhazmCAOAAAkD9azmCAPwAAkDxazmCAPAAAkEZazmCARgAAkD9aAJA/WgCQQ1oAkD9aAJBDWgCQRlrOYIA/AACAPwAAgEMAAIA/AACAQwAAgEYAAJBDWs5ggEMAAJBPWs5ggE8AAJBJWs5ggEkAAJA4Ws5ggDgAAJAsWs5ggCwAAJA8WgCQPFoAkEBazmCAPAAAgDwAAIBAAACQQloAkEJaAJBEWs5ggEIAAIBCAACARAAAkDxazmCAPAAAkEZazmCARgAAkERazmCARAAAkDNazmCAMwAAkERazmCARAAAkEFazmCAQQAAkDxazmCAPAAAkERazmCARAAAkDdazmCANwAAkDdazmCANwAAkC1azmCALQAAkC9azmCALwAAkDpazmCAOgAAkERaAJBEWgCQPFrOYIBEAACARAAAgDwAAJBQWs5ggFAAAJAuWs5ggC4AAJA+WgCQPloAkERazmCAPgAAgD4AAIBEAACQSVrOYIBJAACQLlrOYIAuAACQRlrOYIBGAACQRFrOYIBEAACQNVrOYIA1AACQUFrOYIBQAACQVVrOYIBVAACQPloAkD5aAJBBWgCQPloAkEFaAJBEWs5ggD4AAIA+AACAQQAAgD4AAIBBAACARAAAkFBazmCAUAAAkDxazmCAPAAAkDxaAJA8WgCQP1rOYIA8AACAPAAAgD8AAJBGWs5ggEYAAJBCWgCQQloAkEZazmCAQgAAgEIAAIBGAACQPVoAkD1aAJBCWs5ggD0AAIA9AACAQgAAkEZaAJBGWgCQP1rOYIBGAACARgAAgD8AAJBGWgCQRloAkD9azmCARgAAgEYAAIA/AACQQlrOYIBCAACQQVoAkEFaAJBEWs5ggEEAAIBBAACARAAAkEJazmCAQgAAkEJaAJBCWgCQRlrOYIBCAACAQgAAgEYAAJBCWs5ggEIAAJA+WgCQPloAkD9azmCAPgAAgD4AAIA/AM5g/y8A\");\n",
              "            });\n",
              "        }\n",
              "        if (typeof require === 'undefined') {\n",
              "            setTimeout(midiPlayerDiv459139_play, 2000);\n",
              "        } else {\n",
              "            midiPlayerDiv459139_play();\n",
              "        }\n",
              "        </script>"
            ],
            "text/plain": [
              "<IPython.core.display.HTML object>"
            ]
          },
          "metadata": {},
          "output_type": "display_data"
        }
      ],
      "source": [
        "Melody.show('midi')"
      ]
    },
    {
      "cell_type": "code",
      "execution_count": null,
      "metadata": {
        "id": "uUwYtFwyU7iG"
      },
      "outputs": [],
      "source": []
    }
  ],
  "metadata": {
    "colab": {
      "include_colab_link": true,
      "provenance": []
    },
    "kaggle": {
      "accelerator": "gpu",
      "dataSources": [
        {
          "datasetId": 196294,
          "sourceId": 434491,
          "sourceType": "datasetVersion"
        },
        {
          "datasetId": 1627759,
          "sourceId": 2677541,
          "sourceType": "datasetVersion"
        }
      ],
      "dockerImageVersionId": 30132,
      "isGpuEnabled": true,
      "isInternetEnabled": true,
      "language": "python",
      "sourceType": "notebook"
    },
    "kernelspec": {
      "display_name": "Python 3",
      "language": "python",
      "name": "python3"
    },
    "language_info": {
      "codemirror_mode": {
        "name": "ipython",
        "version": 3
      },
      "file_extension": ".py",
      "mimetype": "text/x-python",
      "name": "python",
      "nbconvert_exporter": "python",
      "pygments_lexer": "ipython3",
      "version": "3.12.5"
    }
  },
  "nbformat": 4,
  "nbformat_minor": 0
}
